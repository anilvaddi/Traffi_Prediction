{
 "cells": [
  {
   "cell_type": "code",
   "execution_count": 1,
   "metadata": {},
   "outputs": [],
   "source": [
    "import os\n",
    "import numpy as np\n",
    "import pandas as pd\n",
    "import matplotlib.pyplot as plt\n",
    "from scipy import stats\n",
    "from sklearn.model_selection import train_test_split\n",
    "from sklearn.feature_selection import SelectKBest\n",
    "from sklearn.feature_selection import chi2\n",
    "\n",
    "import warnings\n",
    "warnings.filterwarnings('ignore')"
   ]
  },
  {
   "cell_type": "code",
   "execution_count": 2,
   "metadata": {},
   "outputs": [],
   "source": [
    "# Function for converting arff list to csv list\n",
    "def toCsv(content):\n",
    "    data = False\n",
    "    header = \"\"\n",
    "    newContent = []\n",
    "    for line in content:\n",
    "        if not data:\n",
    "            if \"@attribute\" in line:\n",
    "                attri = line.split()\n",
    "                columnName = attri[attri.index(\"@attribute\")+1]\n",
    "                header = header + columnName + \",\"\n",
    "            elif \"@data\" in line:\n",
    "                data = True\n",
    "                header = header[:-1]\n",
    "                header += '\\n'\n",
    "                newContent.append(header)\n",
    "        else:\n",
    "            newContent.append(line)\n",
    "    return newContent\n"
   ]
  },
  {
   "cell_type": "code",
   "execution_count": 3,
   "metadata": {},
   "outputs": [],
   "source": [
    "with open(\"Behavior of the urban traffic - modified.arff\" , \"r\") as inFile:\n",
    "        content = inFile.readlines()\n",
    "        name,ext = os.path.splitext(inFile.name)\n",
    "        new = toCsv(content)\n",
    "        with open(name+\".csv\", \"w\") as outFile:\n",
    "            outFile.writelines(new)"
   ]
  },
  {
   "cell_type": "code",
   "execution_count": 4,
   "metadata": {},
   "outputs": [],
   "source": [
    "data = pd.read_csv(\"Behavior of the urban traffic - modified.csv\")"
   ]
  },
  {
   "cell_type": "code",
   "execution_count": 5,
   "metadata": {},
   "outputs": [
    {
     "data": {
      "text/html": [
       "<div>\n",
       "<style scoped>\n",
       "    .dataframe tbody tr th:only-of-type {\n",
       "        vertical-align: middle;\n",
       "    }\n",
       "\n",
       "    .dataframe tbody tr th {\n",
       "        vertical-align: top;\n",
       "    }\n",
       "\n",
       "    .dataframe thead th {\n",
       "        text-align: right;\n",
       "    }\n",
       "</style>\n",
       "<table border=\"1\" class=\"dataframe\">\n",
       "  <thead>\n",
       "    <tr style=\"text-align: right;\">\n",
       "      <th></th>\n",
       "      <th>Immobilized_bus</th>\n",
       "      <th>Broken_Truck</th>\n",
       "      <th>Occurrence_involving_freight</th>\n",
       "      <th>Lack_of_electricity</th>\n",
       "      <th>Fire</th>\n",
       "      <th>Point_of_flooding</th>\n",
       "      <th>Manifestations</th>\n",
       "      <th>Tree_on_the_road</th>\n",
       "      <th>Intermittent_Semaphore</th>\n",
       "      <th>Slowness_in_traffic_percent</th>\n",
       "    </tr>\n",
       "  </thead>\n",
       "  <tbody>\n",
       "    <tr>\n",
       "      <th>count</th>\n",
       "      <td>140.000000</td>\n",
       "      <td>140.000000</td>\n",
       "      <td>140.000000</td>\n",
       "      <td>140.000000</td>\n",
       "      <td>140.000000</td>\n",
       "      <td>140.000000</td>\n",
       "      <td>140.000000</td>\n",
       "      <td>140.000000</td>\n",
       "      <td>140.000000</td>\n",
       "      <td>140.000000</td>\n",
       "    </tr>\n",
       "    <tr>\n",
       "      <th>mean</th>\n",
       "      <td>0.335714</td>\n",
       "      <td>8.007143</td>\n",
       "      <td>0.007143</td>\n",
       "      <td>0.114286</td>\n",
       "      <td>0.007143</td>\n",
       "      <td>14.400000</td>\n",
       "      <td>0.035714</td>\n",
       "      <td>0.042857</td>\n",
       "      <td>0.014286</td>\n",
       "      <td>9.980714</td>\n",
       "    </tr>\n",
       "    <tr>\n",
       "      <th>std</th>\n",
       "      <td>0.652728</td>\n",
       "      <td>84.448912</td>\n",
       "      <td>0.084515</td>\n",
       "      <td>0.495820</td>\n",
       "      <td>0.084515</td>\n",
       "      <td>169.022573</td>\n",
       "      <td>0.221529</td>\n",
       "      <td>0.203262</td>\n",
       "      <td>0.119092</td>\n",
       "      <td>4.323583</td>\n",
       "    </tr>\n",
       "    <tr>\n",
       "      <th>min</th>\n",
       "      <td>0.000000</td>\n",
       "      <td>0.000000</td>\n",
       "      <td>0.000000</td>\n",
       "      <td>0.000000</td>\n",
       "      <td>0.000000</td>\n",
       "      <td>0.000000</td>\n",
       "      <td>-1.000000</td>\n",
       "      <td>0.000000</td>\n",
       "      <td>0.000000</td>\n",
       "      <td>3.400000</td>\n",
       "    </tr>\n",
       "    <tr>\n",
       "      <th>25%</th>\n",
       "      <td>0.000000</td>\n",
       "      <td>0.000000</td>\n",
       "      <td>0.000000</td>\n",
       "      <td>0.000000</td>\n",
       "      <td>0.000000</td>\n",
       "      <td>0.000000</td>\n",
       "      <td>0.000000</td>\n",
       "      <td>0.000000</td>\n",
       "      <td>0.000000</td>\n",
       "      <td>7.300000</td>\n",
       "    </tr>\n",
       "    <tr>\n",
       "      <th>50%</th>\n",
       "      <td>0.000000</td>\n",
       "      <td>1.000000</td>\n",
       "      <td>0.000000</td>\n",
       "      <td>0.000000</td>\n",
       "      <td>0.000000</td>\n",
       "      <td>0.000000</td>\n",
       "      <td>0.000000</td>\n",
       "      <td>0.000000</td>\n",
       "      <td>0.000000</td>\n",
       "      <td>8.950000</td>\n",
       "    </tr>\n",
       "    <tr>\n",
       "      <th>75%</th>\n",
       "      <td>1.000000</td>\n",
       "      <td>1.000000</td>\n",
       "      <td>0.000000</td>\n",
       "      <td>0.000000</td>\n",
       "      <td>0.000000</td>\n",
       "      <td>0.000000</td>\n",
       "      <td>0.000000</td>\n",
       "      <td>0.000000</td>\n",
       "      <td>0.000000</td>\n",
       "      <td>11.500000</td>\n",
       "    </tr>\n",
       "    <tr>\n",
       "      <th>max</th>\n",
       "      <td>4.000000</td>\n",
       "      <td>1000.000000</td>\n",
       "      <td>1.000000</td>\n",
       "      <td>4.000000</td>\n",
       "      <td>1.000000</td>\n",
       "      <td>2000.000000</td>\n",
       "      <td>1.000000</td>\n",
       "      <td>1.000000</td>\n",
       "      <td>1.000000</td>\n",
       "      <td>23.400000</td>\n",
       "    </tr>\n",
       "  </tbody>\n",
       "</table>\n",
       "</div>"
      ],
      "text/plain": [
       "       Immobilized_bus  Broken_Truck  Occurrence_involving_freight  \\\n",
       "count       140.000000    140.000000                    140.000000   \n",
       "mean          0.335714      8.007143                      0.007143   \n",
       "std           0.652728     84.448912                      0.084515   \n",
       "min           0.000000      0.000000                      0.000000   \n",
       "25%           0.000000      0.000000                      0.000000   \n",
       "50%           0.000000      1.000000                      0.000000   \n",
       "75%           1.000000      1.000000                      0.000000   \n",
       "max           4.000000   1000.000000                      1.000000   \n",
       "\n",
       "       Lack_of_electricity        Fire  Point_of_flooding  Manifestations  \\\n",
       "count           140.000000  140.000000         140.000000      140.000000   \n",
       "mean              0.114286    0.007143          14.400000        0.035714   \n",
       "std               0.495820    0.084515         169.022573        0.221529   \n",
       "min               0.000000    0.000000           0.000000       -1.000000   \n",
       "25%               0.000000    0.000000           0.000000        0.000000   \n",
       "50%               0.000000    0.000000           0.000000        0.000000   \n",
       "75%               0.000000    0.000000           0.000000        0.000000   \n",
       "max               4.000000    1.000000        2000.000000        1.000000   \n",
       "\n",
       "       Tree_on_the_road  Intermittent_Semaphore  Slowness_in_traffic_percent  \n",
       "count        140.000000              140.000000                   140.000000  \n",
       "mean           0.042857                0.014286                     9.980714  \n",
       "std            0.203262                0.119092                     4.323583  \n",
       "min            0.000000                0.000000                     3.400000  \n",
       "25%            0.000000                0.000000                     7.300000  \n",
       "50%            0.000000                0.000000                     8.950000  \n",
       "75%            0.000000                0.000000                    11.500000  \n",
       "max            1.000000                1.000000                    23.400000  "
      ]
     },
     "execution_count": 5,
     "metadata": {},
     "output_type": "execute_result"
    }
   ],
   "source": [
    "data.describe()"
   ]
  },
  {
   "cell_type": "code",
   "execution_count": 6,
   "metadata": {},
   "outputs": [
    {
     "data": {
      "text/html": [
       "<div>\n",
       "<style scoped>\n",
       "    .dataframe tbody tr th:only-of-type {\n",
       "        vertical-align: middle;\n",
       "    }\n",
       "\n",
       "    .dataframe tbody tr th {\n",
       "        vertical-align: top;\n",
       "    }\n",
       "\n",
       "    .dataframe thead th {\n",
       "        text-align: right;\n",
       "    }\n",
       "</style>\n",
       "<table border=\"1\" class=\"dataframe\">\n",
       "  <thead>\n",
       "    <tr style=\"text-align: right;\">\n",
       "      <th></th>\n",
       "      <th>Hour</th>\n",
       "      <th>Immobilized_bus</th>\n",
       "      <th>Broken_Truck</th>\n",
       "      <th>Vehicle_excess</th>\n",
       "      <th>Accident_victim</th>\n",
       "      <th>Running_over</th>\n",
       "      <th>Fire_vehicles</th>\n",
       "      <th>Occurrence_involving_freight</th>\n",
       "      <th>Incident_involving_dangerous_freight</th>\n",
       "      <th>Lack_of_electricity</th>\n",
       "      <th>Fire</th>\n",
       "      <th>Point_of_flooding</th>\n",
       "      <th>Manifestations</th>\n",
       "      <th>Defect_in_the_network_of_trolleybuses</th>\n",
       "      <th>Tree_on_the_road</th>\n",
       "      <th>Semaphore_off</th>\n",
       "      <th>Intermittent_Semaphore</th>\n",
       "      <th>Slowness_in_traffic_percent</th>\n",
       "    </tr>\n",
       "  </thead>\n",
       "  <tbody>\n",
       "    <tr>\n",
       "      <th>125</th>\n",
       "      <td>13:30</td>\n",
       "      <td>0.0</td>\n",
       "      <td>1.0</td>\n",
       "      <td>F</td>\n",
       "      <td>0.0</td>\n",
       "      <td>0.0</td>\n",
       "      <td>NO</td>\n",
       "      <td>0.0</td>\n",
       "      <td></td>\n",
       "      <td>0.0</td>\n",
       "      <td>0.0</td>\n",
       "      <td>0.0</td>\n",
       "      <td>0.0</td>\n",
       "      <td>1.0</td>\n",
       "      <td>0.0</td>\n",
       "      <td>0.0</td>\n",
       "      <td>0.0</td>\n",
       "      <td>9.7</td>\n",
       "    </tr>\n",
       "    <tr>\n",
       "      <th>126</th>\n",
       "      <td>14:00</td>\n",
       "      <td>1.0</td>\n",
       "      <td>2.0</td>\n",
       "      <td>F</td>\n",
       "      <td>1.0</td>\n",
       "      <td>0.0</td>\n",
       "      <td>NO</td>\n",
       "      <td>0.0</td>\n",
       "      <td>0.0</td>\n",
       "      <td>0.0</td>\n",
       "      <td>0.0</td>\n",
       "      <td>0.0</td>\n",
       "      <td>0.0</td>\n",
       "      <td>1.0</td>\n",
       "      <td>0.0</td>\n",
       "      <td>1.0</td>\n",
       "      <td>0.0</td>\n",
       "      <td>10.3</td>\n",
       "    </tr>\n",
       "    <tr>\n",
       "      <th>127</th>\n",
       "      <td>14:30</td>\n",
       "      <td>0.0</td>\n",
       "      <td>0.0</td>\n",
       "      <td>F</td>\n",
       "      <td>1.0</td>\n",
       "      <td>0.0</td>\n",
       "      <td>NO</td>\n",
       "      <td>0.0</td>\n",
       "      <td>0.0</td>\n",
       "      <td>1.0</td>\n",
       "      <td>0.0</td>\n",
       "      <td>0.0</td>\n",
       "      <td>0.0</td>\n",
       "      <td>0.0</td>\n",
       "      <td>0.0</td>\n",
       "      <td>0.0</td>\n",
       "      <td>0.0</td>\n",
       "      <td>10.9</td>\n",
       "    </tr>\n",
       "    <tr>\n",
       "      <th>128</th>\n",
       "      <td>15:00</td>\n",
       "      <td>0.0</td>\n",
       "      <td>1.0</td>\n",
       "      <td>F</td>\n",
       "      <td>1.0</td>\n",
       "      <td>0.0</td>\n",
       "      <td>NO</td>\n",
       "      <td>0.0</td>\n",
       "      <td>0.0</td>\n",
       "      <td>0.0</td>\n",
       "      <td>0.0</td>\n",
       "      <td>0.0</td>\n",
       "      <td>0.0</td>\n",
       "      <td>0.0</td>\n",
       "      <td>0.0</td>\n",
       "      <td>0.0</td>\n",
       "      <td>0.0</td>\n",
       "      <td>8.9</td>\n",
       "    </tr>\n",
       "    <tr>\n",
       "      <th>129</th>\n",
       "      <td>15:30</td>\n",
       "      <td>2.0</td>\n",
       "      <td>0.0</td>\n",
       "      <td>F</td>\n",
       "      <td>1.0</td>\n",
       "      <td>-1.0</td>\n",
       "      <td>NO</td>\n",
       "      <td>0.0</td>\n",
       "      <td></td>\n",
       "      <td>0.0</td>\n",
       "      <td>0.0</td>\n",
       "      <td>0.0</td>\n",
       "      <td>0.0</td>\n",
       "      <td>0.0</td>\n",
       "      <td>0.0</td>\n",
       "      <td>0.0</td>\n",
       "      <td>0.0</td>\n",
       "      <td>9.4</td>\n",
       "    </tr>\n",
       "    <tr>\n",
       "      <th>130</th>\n",
       "      <td>16:00</td>\n",
       "      <td>0.0</td>\n",
       "      <td>0.0</td>\n",
       "      <td>F</td>\n",
       "      <td>1.0</td>\n",
       "      <td>0.0</td>\n",
       "      <td>NO</td>\n",
       "      <td>0.0</td>\n",
       "      <td>0.0</td>\n",
       "      <td>0.0</td>\n",
       "      <td>0.0</td>\n",
       "      <td>0.0</td>\n",
       "      <td>0.0</td>\n",
       "      <td>0.0</td>\n",
       "      <td>0.0</td>\n",
       "      <td>1.0</td>\n",
       "      <td>0.0</td>\n",
       "      <td>11.3</td>\n",
       "    </tr>\n",
       "    <tr>\n",
       "      <th>131</th>\n",
       "      <td>16:00</td>\n",
       "      <td>0.0</td>\n",
       "      <td>0.0</td>\n",
       "      <td>F</td>\n",
       "      <td>1.0</td>\n",
       "      <td>0.0</td>\n",
       "      <td>NO</td>\n",
       "      <td>0.0</td>\n",
       "      <td>0.0</td>\n",
       "      <td>0.0</td>\n",
       "      <td>0.0</td>\n",
       "      <td>0.0</td>\n",
       "      <td>0.0</td>\n",
       "      <td>0.0</td>\n",
       "      <td>0.0</td>\n",
       "      <td>1.0</td>\n",
       "      <td>0.0</td>\n",
       "      <td>11.3</td>\n",
       "    </tr>\n",
       "    <tr>\n",
       "      <th>132</th>\n",
       "      <td>16:30</td>\n",
       "      <td>0.0</td>\n",
       "      <td>0.0</td>\n",
       "      <td>T</td>\n",
       "      <td>2.0</td>\n",
       "      <td>0.0</td>\n",
       "      <td>NO</td>\n",
       "      <td>0.0</td>\n",
       "      <td>0.0</td>\n",
       "      <td>0.0</td>\n",
       "      <td>0.0</td>\n",
       "      <td>0.0</td>\n",
       "      <td>0.0</td>\n",
       "      <td>0.0</td>\n",
       "      <td>0.0</td>\n",
       "      <td>0.0</td>\n",
       "      <td>0.0</td>\n",
       "      <td>13.0</td>\n",
       "    </tr>\n",
       "    <tr>\n",
       "      <th>133</th>\n",
       "      <td>17:00</td>\n",
       "      <td>0.0</td>\n",
       "      <td>0.0</td>\n",
       "      <td>F</td>\n",
       "      <td>0.0</td>\n",
       "      <td>0.0</td>\n",
       "      <td>NO</td>\n",
       "      <td>0.0</td>\n",
       "      <td>0.0</td>\n",
       "      <td>0.0</td>\n",
       "      <td>0.0</td>\n",
       "      <td>0.0</td>\n",
       "      <td>0.0</td>\n",
       "      <td>0.0</td>\n",
       "      <td>0.0</td>\n",
       "      <td>0.0</td>\n",
       "      <td>0.0</td>\n",
       "      <td>14.6</td>\n",
       "    </tr>\n",
       "    <tr>\n",
       "      <th>134</th>\n",
       "      <td>17:30</td>\n",
       "      <td>0.0</td>\n",
       "      <td>1.0</td>\n",
       "      <td>F</td>\n",
       "      <td>1.0</td>\n",
       "      <td>0.0</td>\n",
       "      <td>NO</td>\n",
       "      <td>0.0</td>\n",
       "      <td>0.0</td>\n",
       "      <td>0.0</td>\n",
       "      <td>0.0</td>\n",
       "      <td>0.0</td>\n",
       "      <td>0.0</td>\n",
       "      <td>0.0</td>\n",
       "      <td>0.0</td>\n",
       "      <td>1.0</td>\n",
       "      <td>0.0</td>\n",
       "      <td>17.4</td>\n",
       "    </tr>\n",
       "    <tr>\n",
       "      <th>135</th>\n",
       "      <td>18:00</td>\n",
       "      <td>1.0</td>\n",
       "      <td>0.0</td>\n",
       "      <td>F</td>\n",
       "      <td>0.0</td>\n",
       "      <td>1.0</td>\n",
       "      <td>NO</td>\n",
       "      <td>0.0</td>\n",
       "      <td>0.0</td>\n",
       "      <td>0.0</td>\n",
       "      <td>0.0</td>\n",
       "      <td>0.0</td>\n",
       "      <td>0.0</td>\n",
       "      <td>1.0</td>\n",
       "      <td>0.0</td>\n",
       "      <td>0.0</td>\n",
       "      <td>0.0</td>\n",
       "      <td>17.8</td>\n",
       "    </tr>\n",
       "    <tr>\n",
       "      <th>136</th>\n",
       "      <td>18:30</td>\n",
       "      <td>0.0</td>\n",
       "      <td>0.0</td>\n",
       "      <td>F</td>\n",
       "      <td>2.0</td>\n",
       "      <td>0.0</td>\n",
       "      <td>NO</td>\n",
       "      <td>0.0</td>\n",
       "      <td>0.0</td>\n",
       "      <td>0.0</td>\n",
       "      <td>0.0</td>\n",
       "      <td>0.0</td>\n",
       "      <td>0.0</td>\n",
       "      <td></td>\n",
       "      <td>0.0</td>\n",
       "      <td>0.0</td>\n",
       "      <td>0.0</td>\n",
       "      <td>18.1</td>\n",
       "    </tr>\n",
       "    <tr>\n",
       "      <th>137</th>\n",
       "      <td>19:00</td>\n",
       "      <td>1.0</td>\n",
       "      <td>0.0</td>\n",
       "      <td>F</td>\n",
       "      <td>2.0</td>\n",
       "      <td>0.0</td>\n",
       "      <td>NO</td>\n",
       "      <td>0.0</td>\n",
       "      <td>0.0</td>\n",
       "      <td>0.0</td>\n",
       "      <td>0.0</td>\n",
       "      <td>0.0</td>\n",
       "      <td>0.0</td>\n",
       "      <td>0.0</td>\n",
       "      <td>0.0</td>\n",
       "      <td></td>\n",
       "      <td>0.0</td>\n",
       "      <td>17.7</td>\n",
       "    </tr>\n",
       "    <tr>\n",
       "      <th>138</th>\n",
       "      <td>19:30</td>\n",
       "      <td>0.0</td>\n",
       "      <td>4.0</td>\n",
       "      <td>F</td>\n",
       "      <td></td>\n",
       "      <td>0.0</td>\n",
       "      <td>NO</td>\n",
       "      <td>0.0</td>\n",
       "      <td>0.0</td>\n",
       "      <td>0.0</td>\n",
       "      <td>0.0</td>\n",
       "      <td>0.0</td>\n",
       "      <td>1.0</td>\n",
       "      <td>0.0</td>\n",
       "      <td>0.0</td>\n",
       "      <td>1.0</td>\n",
       "      <td>0.0</td>\n",
       "      <td>17.4</td>\n",
       "    </tr>\n",
       "    <tr>\n",
       "      <th>139</th>\n",
       "      <td>20:00</td>\n",
       "      <td>0.0</td>\n",
       "      <td>0.0</td>\n",
       "      <td>F</td>\n",
       "      <td>0.0</td>\n",
       "      <td>0.0</td>\n",
       "      <td>NO</td>\n",
       "      <td>0.0</td>\n",
       "      <td>0.0</td>\n",
       "      <td>0.0</td>\n",
       "      <td>0.0</td>\n",
       "      <td>0.0</td>\n",
       "      <td>0.0</td>\n",
       "      <td>0.0</td>\n",
       "      <td>0.0</td>\n",
       "      <td>0.0</td>\n",
       "      <td>0.0</td>\n",
       "      <td>12.1</td>\n",
       "    </tr>\n",
       "  </tbody>\n",
       "</table>\n",
       "</div>"
      ],
      "text/plain": [
       "      Hour  Immobilized_bus  Broken_Truck Vehicle_excess Accident_victim  \\\n",
       "125  13:30              0.0           1.0              F             0.0   \n",
       "126  14:00              1.0           2.0              F             1.0   \n",
       "127  14:30              0.0           0.0              F             1.0   \n",
       "128  15:00              0.0           1.0              F             1.0   \n",
       "129  15:30              2.0           0.0              F             1.0   \n",
       "130  16:00              0.0           0.0              F             1.0   \n",
       "131  16:00              0.0           0.0              F             1.0   \n",
       "132  16:30              0.0           0.0              T             2.0   \n",
       "133  17:00              0.0           0.0              F             0.0   \n",
       "134  17:30              0.0           1.0              F             1.0   \n",
       "135  18:00              1.0           0.0              F             0.0   \n",
       "136  18:30              0.0           0.0              F             2.0   \n",
       "137  19:00              1.0           0.0              F             2.0   \n",
       "138  19:30              0.0           4.0              F                   \n",
       "139  20:00              0.0           0.0              F             0.0   \n",
       "\n",
       "    Running_over Fire_vehicles  Occurrence_involving_freight  \\\n",
       "125          0.0            NO                           0.0   \n",
       "126          0.0            NO                           0.0   \n",
       "127          0.0            NO                           0.0   \n",
       "128          0.0            NO                           0.0   \n",
       "129         -1.0            NO                           0.0   \n",
       "130          0.0            NO                           0.0   \n",
       "131          0.0            NO                           0.0   \n",
       "132          0.0            NO                           0.0   \n",
       "133          0.0            NO                           0.0   \n",
       "134          0.0            NO                           0.0   \n",
       "135          1.0            NO                           0.0   \n",
       "136          0.0            NO                           0.0   \n",
       "137          0.0            NO                           0.0   \n",
       "138          0.0            NO                           0.0   \n",
       "139          0.0            NO                           0.0   \n",
       "\n",
       "    Incident_involving_dangerous_freight  Lack_of_electricity  Fire  \\\n",
       "125                                                       0.0   0.0   \n",
       "126                                  0.0                  0.0   0.0   \n",
       "127                                  0.0                  1.0   0.0   \n",
       "128                                  0.0                  0.0   0.0   \n",
       "129                                                       0.0   0.0   \n",
       "130                                  0.0                  0.0   0.0   \n",
       "131                                  0.0                  0.0   0.0   \n",
       "132                                  0.0                  0.0   0.0   \n",
       "133                                  0.0                  0.0   0.0   \n",
       "134                                  0.0                  0.0   0.0   \n",
       "135                                  0.0                  0.0   0.0   \n",
       "136                                  0.0                  0.0   0.0   \n",
       "137                                  0.0                  0.0   0.0   \n",
       "138                                  0.0                  0.0   0.0   \n",
       "139                                  0.0                  0.0   0.0   \n",
       "\n",
       "     Point_of_flooding  Manifestations Defect_in_the_network_of_trolleybuses  \\\n",
       "125                0.0             0.0                                   1.0   \n",
       "126                0.0             0.0                                   1.0   \n",
       "127                0.0             0.0                                   0.0   \n",
       "128                0.0             0.0                                   0.0   \n",
       "129                0.0             0.0                                   0.0   \n",
       "130                0.0             0.0                                   0.0   \n",
       "131                0.0             0.0                                   0.0   \n",
       "132                0.0             0.0                                   0.0   \n",
       "133                0.0             0.0                                   0.0   \n",
       "134                0.0             0.0                                   0.0   \n",
       "135                0.0             0.0                                   1.0   \n",
       "136                0.0             0.0                                         \n",
       "137                0.0             0.0                                   0.0   \n",
       "138                0.0             1.0                                   0.0   \n",
       "139                0.0             0.0                                   0.0   \n",
       "\n",
       "     Tree_on_the_road Semaphore_off  Intermittent_Semaphore  \\\n",
       "125               0.0           0.0                     0.0   \n",
       "126               0.0           1.0                     0.0   \n",
       "127               0.0           0.0                     0.0   \n",
       "128               0.0           0.0                     0.0   \n",
       "129               0.0           0.0                     0.0   \n",
       "130               0.0           1.0                     0.0   \n",
       "131               0.0           1.0                     0.0   \n",
       "132               0.0           0.0                     0.0   \n",
       "133               0.0           0.0                     0.0   \n",
       "134               0.0           1.0                     0.0   \n",
       "135               0.0           0.0                     0.0   \n",
       "136               0.0           0.0                     0.0   \n",
       "137               0.0                                   0.0   \n",
       "138               0.0           1.0                     0.0   \n",
       "139               0.0           0.0                     0.0   \n",
       "\n",
       "     Slowness_in_traffic_percent  \n",
       "125                          9.7  \n",
       "126                         10.3  \n",
       "127                         10.9  \n",
       "128                          8.9  \n",
       "129                          9.4  \n",
       "130                         11.3  \n",
       "131                         11.3  \n",
       "132                         13.0  \n",
       "133                         14.6  \n",
       "134                         17.4  \n",
       "135                         17.8  \n",
       "136                         18.1  \n",
       "137                         17.7  \n",
       "138                         17.4  \n",
       "139                         12.1  "
      ]
     },
     "execution_count": 6,
     "metadata": {},
     "output_type": "execute_result"
    }
   ],
   "source": [
    "data.tail(15)"
   ]
  },
  {
   "cell_type": "code",
   "execution_count": 7,
   "metadata": {},
   "outputs": [
    {
     "data": {
      "text/plain": [
       "(140, 18)"
      ]
     },
     "execution_count": 7,
     "metadata": {},
     "output_type": "execute_result"
    }
   ],
   "source": [
    "data.shape"
   ]
  },
  {
   "cell_type": "markdown",
   "metadata": {},
   "source": [
    "140 observations are recorded for 18 different reasons for traffic slowness"
   ]
  },
  {
   "cell_type": "code",
   "execution_count": 8,
   "metadata": {},
   "outputs": [
    {
     "data": {
      "text/plain": [
       "Index(['Hour', 'Immobilized_bus', 'Broken_Truck', 'Vehicle_excess',\n",
       "       'Accident_victim', 'Running_over', 'Fire_vehicles',\n",
       "       'Occurrence_involving_freight', 'Incident_involving_dangerous_freight',\n",
       "       'Lack_of_electricity', 'Fire', 'Point_of_flooding', 'Manifestations',\n",
       "       'Defect_in_the_network_of_trolleybuses', 'Tree_on_the_road',\n",
       "       'Semaphore_off', 'Intermittent_Semaphore',\n",
       "       'Slowness_in_traffic_percent'],\n",
       "      dtype='object')"
      ]
     },
     "execution_count": 8,
     "metadata": {},
     "output_type": "execute_result"
    }
   ],
   "source": [
    "data.columns"
   ]
  },
  {
   "cell_type": "code",
   "execution_count": 9,
   "metadata": {},
   "outputs": [
    {
     "name": "stdout",
     "output_type": "stream",
     "text": [
      "<class 'pandas.core.frame.DataFrame'>\n",
      "RangeIndex: 140 entries, 0 to 139\n",
      "Data columns (total 18 columns):\n",
      "Hour                                     140 non-null object\n",
      "Immobilized_bus                          140 non-null float64\n",
      "Broken_Truck                             140 non-null float64\n",
      "Vehicle_excess                           140 non-null object\n",
      "Accident_victim                          140 non-null object\n",
      "Running_over                             140 non-null object\n",
      "Fire_vehicles                            140 non-null object\n",
      "Occurrence_involving_freight             140 non-null float64\n",
      "Incident_involving_dangerous_freight     140 non-null object\n",
      "Lack_of_electricity                      140 non-null float64\n",
      "Fire                                     140 non-null float64\n",
      "Point_of_flooding                        140 non-null float64\n",
      "Manifestations                           140 non-null float64\n",
      "Defect_in_the_network_of_trolleybuses    140 non-null object\n",
      "Tree_on_the_road                         140 non-null float64\n",
      "Semaphore_off                            140 non-null object\n",
      "Intermittent_Semaphore                   140 non-null float64\n",
      "Slowness_in_traffic_percent              140 non-null float64\n",
      "dtypes: float64(10), object(8)\n",
      "memory usage: 19.8+ KB\n"
     ]
    }
   ],
   "source": [
    "data.info()"
   ]
  },
  {
   "cell_type": "code",
   "execution_count": 10,
   "metadata": {},
   "outputs": [],
   "source": [
    "data.describe(include = 'all')\n",
    "data_working = data.copy()\n",
    "#data_working.describe(include = 'all')"
   ]
  },
  {
   "cell_type": "markdown",
   "metadata": {},
   "source": [
    "Check if the data has any null values"
   ]
  },
  {
   "cell_type": "code",
   "execution_count": 11,
   "metadata": {},
   "outputs": [
    {
     "name": "stdout",
     "output_type": "stream",
     "text": [
      "Hour\n",
      "False    140\n",
      "Name: Hour, dtype: int64\n",
      "\n",
      "Immobilized_bus\n",
      "False    140\n",
      "Name: Immobilized_bus, dtype: int64\n",
      "\n",
      "Broken_Truck\n",
      "False    140\n",
      "Name: Broken_Truck, dtype: int64\n",
      "\n",
      "Vehicle_excess\n",
      "False    140\n",
      "Name: Vehicle_excess, dtype: int64\n",
      "\n",
      "Accident_victim\n",
      "False    138\n",
      "True       2\n",
      "Name: Accident_victim, dtype: int64\n",
      "\n",
      "Running_over\n",
      "False    140\n",
      "Name: Running_over, dtype: int64\n",
      "\n",
      "Fire_vehicles\n",
      "False    140\n",
      "Name: Fire_vehicles, dtype: int64\n",
      "\n",
      "Occurrence_involving_freight\n",
      "False    140\n",
      "Name: Occurrence_involving_freight, dtype: int64\n",
      "\n",
      "Incident_involving_dangerous_freight\n",
      "False    138\n",
      "True       2\n",
      "Name: Incident_involving_dangerous_freight, dtype: int64\n",
      "\n",
      "Lack_of_electricity\n",
      "False    140\n",
      "Name: Lack_of_electricity, dtype: int64\n",
      "\n",
      "Fire\n",
      "False    140\n",
      "Name: Fire, dtype: int64\n",
      "\n",
      "Point_of_flooding\n",
      "False    140\n",
      "Name: Point_of_flooding, dtype: int64\n",
      "\n",
      "Manifestations\n",
      "False    140\n",
      "Name: Manifestations, dtype: int64\n",
      "\n",
      "Defect_in_the_network_of_trolleybuses\n",
      "False    138\n",
      "True       2\n",
      "Name: Defect_in_the_network_of_trolleybuses, dtype: int64\n",
      "\n",
      "Tree_on_the_road\n",
      "False    140\n",
      "Name: Tree_on_the_road, dtype: int64\n",
      "\n",
      "Semaphore_off\n",
      "False    139\n",
      "True       1\n",
      "Name: Semaphore_off, dtype: int64\n",
      "\n",
      "Intermittent_Semaphore\n",
      "False    140\n",
      "Name: Intermittent_Semaphore, dtype: int64\n",
      "\n",
      "Slowness_in_traffic_percent\n",
      "False    140\n",
      "Name: Slowness_in_traffic_percent, dtype: int64\n",
      "\n"
     ]
    }
   ],
   "source": [
    "def show_missing_values(data):\n",
    "    missing_data = data.eq(' ')\n",
    "    for column in missing_data.columns.values.tolist():\n",
    "        print(column)\n",
    "        print (missing_data[column].value_counts())\n",
    "        print(\"\")\n",
    "show_missing_values(data_working)"
   ]
  },
  {
   "cell_type": "markdown",
   "metadata": {},
   "source": [
    "Let's cross verify"
   ]
  },
  {
   "cell_type": "code",
   "execution_count": 12,
   "metadata": {},
   "outputs": [
    {
     "data": {
      "text/plain": [
       "Hour                                     0\n",
       "Immobilized_bus                          0\n",
       "Broken_Truck                             0\n",
       "Vehicle_excess                           0\n",
       "Accident_victim                          0\n",
       "Running_over                             0\n",
       "Fire_vehicles                            0\n",
       "Occurrence_involving_freight             0\n",
       "Incident_involving_dangerous_freight     0\n",
       "Lack_of_electricity                      0\n",
       "Fire                                     0\n",
       "Point_of_flooding                        0\n",
       "Manifestations                           0\n",
       "Defect_in_the_network_of_trolleybuses    0\n",
       "Tree_on_the_road                         0\n",
       "Semaphore_off                            0\n",
       "Intermittent_Semaphore                   0\n",
       "Slowness_in_traffic_percent              0\n",
       "dtype: int64"
      ]
     },
     "execution_count": 12,
     "metadata": {},
     "output_type": "execute_result"
    }
   ],
   "source": [
    "data_working.isnull().sum()"
   ]
  },
  {
   "cell_type": "markdown",
   "metadata": {},
   "source": [
    "However, data has spaces..."
   ]
  },
  {
   "cell_type": "code",
   "execution_count": 13,
   "metadata": {},
   "outputs": [
    {
     "data": {
      "text/plain": [
       "['Accident_victim',\n",
       " 'Incident_involving_dangerous_freight',\n",
       " 'Defect_in_the_network_of_trolleybuses',\n",
       " 'Semaphore_off']"
      ]
     },
     "execution_count": 13,
     "metadata": {},
     "output_type": "execute_result"
    }
   ],
   "source": [
    "missing_data_columns = data_working.columns[data_working.eq(' ').any()].tolist()\n",
    "missing_data_columns"
   ]
  },
  {
   "cell_type": "markdown",
   "metadata": {},
   "source": [
    "As we have seen above, we have  ['Accident_victim', 'Incident_involving_dangerous_freight','Defect_in_the_network_of_trolleybuses', 'Semaphore_off'] having null values. Let us validate each column and find how to replace them.\n",
    "\n",
    "Accident_victim: It says about number of accidents happened which is a quantitative numerical attribute and which is discrete. As this can play an important role in the slowness of traffic, we are replacing this value with mean.\n",
    "\n",
    "Incident_involving_dangerous_freight: It says about the accidents involving dangerous freights which is again a quantitative attribute and which is discrete. According to the data we have seen less incidents, so we are replacing with mean\n",
    "\n",
    "Defect_in_the_network_of_trolleybuses: It says about number of incidents happened due to defect in the network of trolley buses which is again quantitative attribute and which is discrete. Hence we are using mean to replace the data\n",
    "\n",
    "Semaphore_off: It talks about the number of traffic signals not functioning, which is again quantitative attribute and which is discrete. Hence we are using mean to replace the data"
   ]
  },
  {
   "cell_type": "code",
   "execution_count": 22,
   "metadata": {},
   "outputs": [],
   "source": [
    "#Calculating mean of each column and replacing the emty values\n",
    "mean = float(np.mean(data_working['Accident_victim'].notnull()))\n",
    "data_working['Accident_victim'].replace(\" \", float(mean), inplace = True)\n",
    "data_working['Accident_victim'] = data_working['Accident_victim'].astype(float)\n",
    "mean = np.mean(data_working['Incident_involving_dangerous_freight'].notnull())\n",
    "data_working['Incident_involving_dangerous_freight'].replace(\" \", float(mean), inplace = True)\n",
    "data_working['Incident_involving_dangerous_freight'] = data_working['Incident_involving_dangerous_freight'].astype(float)\n",
    "mean = np.mean(data['Defect_in_the_network_of_trolleybuses'].notnull())\n",
    "data_working['Defect_in_the_network_of_trolleybuses'].replace(\" \", float(mean), inplace = True)\n",
    "data_working['Defect_in_the_network_of_trolleybuses'] = data_working['Defect_in_the_network_of_trolleybuses'].astype(float)\n",
    "mean = np.mean(data_working['Semaphore_off'].notnull())\n",
    "data_working['Semaphore_off'].replace(\" \", float(mean), inplace = True)\n",
    "data_working['Semaphore_off'] = data_working['Semaphore_off'].astype(float)\n",
    "#mean = np.mean(data_working['Running_over'].notnull())\n",
    "#data_working['Running_over'].replace(-1.0, float(mean), inplace = True)\n",
    "#data_working['Running_over'] = data_working['Running_over'].astype(float)"
   ]
  },
  {
   "cell_type": "code",
   "execution_count": 24,
   "metadata": {},
   "outputs": [
    {
     "name": "stdout",
     "output_type": "stream",
     "text": [
      "Hour ['7:00' '7:30' '8:00' '8:30' '9:00' '9:30' '10:00' '10:30' '11:00' '11:30'\n",
      " '12:00' '12:30' '13:00' '13:30' '14:00' '14:30' '15:00' '15:30' '16:00'\n",
      " '16:30' '17:00' '17:30' '18:00' '18:30' '19:00' '19:30' '20:00']\n",
      "Immobilized_bus [0. 2. 1. 4.]\n",
      "Broken_Truck [   0. 1000.    2.    1.    5.    4.    3.]\n",
      "Vehicle_excess [' T' ' F' ' f']\n",
      "Accident_victim [0. 1. 2. 3.]\n",
      "Running_over [' 0.0' ' NO' ' 1.0' ' 2.0' ' -1.0']\n",
      "Fire_vehicles [' NO' ' 0.0' ' YES']\n",
      "Occurrence_involving_freight [0. 1.]\n",
      "Incident_involving_dangerous_freight [0. 1.]\n",
      "Lack_of_electricity [0. 1. 2. 4. 3.]\n",
      "Fire [0. 1.]\n",
      "Point_of_flooding [0.e+00 2.e+03 1.e+00 3.e+00 7.e+00]\n",
      "Manifestations [ 0.  1. -1.]\n",
      "Defect_in_the_network_of_trolleybuses [ 0.  1.  3.  2. -8.]\n",
      "Tree_on_the_road [0. 1.]\n",
      "Semaphore_off [0. 1. 2. 4.]\n",
      "Intermittent_Semaphore [0. 1.]\n",
      "Slowness_in_traffic_percent [ 4.1  6.6  8.7  9.2 11.1 10.9  8.3  8.2  7.6  6.4  5.2  4.7  4.8  4.9\n",
      "  5.1  5.3  6.9  6.7  8.1  9.5  9.4  9.9 11.2 11.8 11.4  7.4  6.3  8.\n",
      " 10.3  7.9  7.7  8.5  7.8  8.4  9.3 11.  12.1 13.1 13.7 15.3 16.8 15.6\n",
      "  3.4  3.8  5.9  7.   6.2  6.5  6.8 10.1 12.2 13.9 15.  17.1 19.6 20.2\n",
      " 22.6 23.4 19.3  4.   5.   5.7  5.6 10.8 12.5 10.5 18.3 19.9 21.5 22.1\n",
      "  5.5  9.  12.3 11.9  9.7  8.9 11.3 13.  14.6 17.4 17.8 18.1 17.7]\n"
     ]
    }
   ],
   "source": [
    "#Changing all the values to Numerical values\n",
    "def getUniqueValuesOfEachColumn():\n",
    "    for col in data_working.columns:\n",
    "        print(col, data_working[col].unique())\n",
    "getUniqueValuesOfEachColumn()"
   ]
  },
  {
   "cell_type": "code",
   "execution_count": 25,
   "metadata": {},
   "outputs": [],
   "source": [
    "#get unique values (rows)\n",
    "#data_working = data_working.drop_duplicates()\n"
   ]
  },
  {
   "cell_type": "code",
   "execution_count": 26,
   "metadata": {},
   "outputs": [
    {
     "data": {
      "text/plain": [
       "(140, 18)"
      ]
     },
     "execution_count": 26,
     "metadata": {},
     "output_type": "execute_result"
    }
   ],
   "source": [
    "data_working.shape"
   ]
  },
  {
   "cell_type": "markdown",
   "metadata": {},
   "source": [
    "Here we observe that Vehicle_excess has T,F,f which are categorical values need to be converted. \n",
    "Running Over has NO, which needs to be converted. \n",
    "Fire vehicles needs to be converted.\n",
    "Let us try to convert all these values to numerical and see"
   ]
  },
  {
   "cell_type": "code",
   "execution_count": 27,
   "metadata": {},
   "outputs": [],
   "source": [
    "data_working['Vehicle_excess'] = data_working['Vehicle_excess'].astype(str).str.strip()\n",
    "data_working['Vehicle_excess'].replace('T', 1, inplace = True)\n",
    "data_working['Vehicle_excess'].replace('F', 0, inplace = True)\n",
    "data_working['Vehicle_excess'].replace('f', 0, inplace = True)"
   ]
  },
  {
   "cell_type": "code",
   "execution_count": 28,
   "metadata": {},
   "outputs": [],
   "source": [
    "data_working['Running_over'] = data_working['Running_over'].astype(str).str.strip()\n",
    "data_working['Running_over'].replace('NO', 0.0, inplace = True)"
   ]
  },
  {
   "cell_type": "code",
   "execution_count": 29,
   "metadata": {},
   "outputs": [],
   "source": [
    "data_working['Fire_vehicles'] = data_working['Fire_vehicles'].astype(str).str.strip()\n",
    "data_working['Fire_vehicles'].replace('NO', 0.0, inplace = True)\n",
    "data_working['Fire_vehicles'].replace('YES', 1.0, inplace = True)"
   ]
  },
  {
   "cell_type": "code",
   "execution_count": 30,
   "metadata": {},
   "outputs": [
    {
     "data": {
      "text/plain": [
       "(140, 18)"
      ]
     },
     "execution_count": 30,
     "metadata": {},
     "output_type": "execute_result"
    }
   ],
   "source": [
    "data_working.shape"
   ]
  },
  {
   "cell_type": "markdown",
   "metadata": {},
   "source": [
    "We see all the categorical values are converted to numerical values, let us convert hour value to float now"
   ]
  },
  {
   "cell_type": "code",
   "execution_count": 31,
   "metadata": {},
   "outputs": [],
   "source": [
    "data_working['Hour']= data_working['Hour'].replace(':','.', regex=True).astype(\"float\")\n",
    "data_working['Running_over'] = data_working['Running_over'].astype('float')\n",
    "data_working['Fire_vehicles'] = data_working['Fire_vehicles'].astype('float')"
   ]
  },
  {
   "cell_type": "code",
   "execution_count": 32,
   "metadata": {},
   "outputs": [
    {
     "name": "stdout",
     "output_type": "stream",
     "text": [
      "<class 'pandas.core.frame.DataFrame'>\n",
      "RangeIndex: 140 entries, 0 to 139\n",
      "Data columns (total 18 columns):\n",
      "Hour                                     140 non-null float64\n",
      "Immobilized_bus                          140 non-null float64\n",
      "Broken_Truck                             140 non-null float64\n",
      "Vehicle_excess                           140 non-null int64\n",
      "Accident_victim                          140 non-null float64\n",
      "Running_over                             140 non-null float64\n",
      "Fire_vehicles                            140 non-null float64\n",
      "Occurrence_involving_freight             140 non-null float64\n",
      "Incident_involving_dangerous_freight     140 non-null float64\n",
      "Lack_of_electricity                      140 non-null float64\n",
      "Fire                                     140 non-null float64\n",
      "Point_of_flooding                        140 non-null float64\n",
      "Manifestations                           140 non-null float64\n",
      "Defect_in_the_network_of_trolleybuses    140 non-null float64\n",
      "Tree_on_the_road                         140 non-null float64\n",
      "Semaphore_off                            140 non-null float64\n",
      "Intermittent_Semaphore                   140 non-null float64\n",
      "Slowness_in_traffic_percent              140 non-null float64\n",
      "dtypes: float64(17), int64(1)\n",
      "memory usage: 19.8 KB\n"
     ]
    }
   ],
   "source": [
    "data_working.info()"
   ]
  },
  {
   "cell_type": "code",
   "execution_count": 33,
   "metadata": {},
   "outputs": [
    {
     "data": {
      "text/plain": [
       "<matplotlib.axes._subplots.AxesSubplot at 0x1b7a2f21c88>"
      ]
     },
     "execution_count": 33,
     "metadata": {},
     "output_type": "execute_result"
    },
    {
     "data": {
      "image/png": "[encoded data removed]",
      "text/plain": [
       "<Figure size 432x288 with 1 Axes>"
      ]
     },
     "metadata": {
      "needs_background": "light"
     },
     "output_type": "display_data"
    }
   ],
   "source": [
    "#Find outliers\n",
    "import seaborn as sns\n",
    "sns.boxplot(x = 'Broken_Truck', y = 'Slowness_in_traffic_percent', data = data_working)"
   ]
  },
  {
   "cell_type": "code",
   "execution_count": 34,
   "metadata": {},
   "outputs": [
    {
     "data": {
      "image/png": "[encoded data removed]",
      "text/plain": [
       "<Figure size 432x288 with 18 Axes>"
      ]
     },
     "metadata": {
      "needs_background": "light"
     },
     "output_type": "display_data"
    }
   ],
   "source": [
    "fig, axes = plt.subplots(nrows=9, ncols=2)\n",
    "data_working.plot(subplots=True, ax=axes.flatten()[:18])\n",
    "\n",
    "#plt.set_tight_layout(True)\n",
    "plt.tight_layout(pad=0.4, w_pad=0.5, h_pad=1.0)\n",
    "plt.show()"
   ]
  },
  {
   "cell_type": "markdown",
   "metadata": {},
   "source": [
    "Applying Z score to eliminate outliers\n",
    "z = (x - mean(x))/SD"
   ]
  },
  {
   "cell_type": "code",
   "execution_count": 35,
   "metadata": {},
   "outputs": [],
   "source": [
    "data_working_out = data_working[(np.abs(stats.zscore(data_working)) < 3).all(axis=1)]"
   ]
  },
  {
   "cell_type": "markdown",
   "metadata": {},
   "source": [
    "1. For each column, first it computes the Z-score of each value in the column, relative to the column mean and standard deviation.\n",
    "2. Then is takes the absolute of Z-score because the direction does not matter, only if it is below the threshold.\n",
    "3. all(axis=1) ensures that for each row, all column satisfy the constraint.\n",
    "4. Finally, result of this condition is used to index the dataframe."
   ]
  },
  {
   "cell_type": "code",
   "execution_count": 36,
   "metadata": {},
   "outputs": [],
   "source": [
    "#Q1 = data_working.quantile(0.25)\n",
    "#Q3 = data_working.quantile(0.75)\n",
    "#IQR = Q3 - Q1\n",
    "#print(IQR)"
   ]
  },
  {
   "cell_type": "code",
   "execution_count": 37,
   "metadata": {},
   "outputs": [],
   "source": [
    "#upperLimit = Q3 + (1.5 * IQR)\n",
    "#lowerLimit = Q1 - (1.5 * IQR)\n",
    "#print(lowerLimit)\n",
    "#print(upperLimit)\n",
    "\n",
    "#data_working_out = data_working[~((data_working < lowerLimit) | (data_working > upperLimit)).any(axis=1)]\n",
    "#print(data_working_out)\n",
    "#data_working.shape\n",
    "#data_working_out.shape"
   ]
  },
  {
   "cell_type": "markdown",
   "metadata": {},
   "source": [
    "Normality Testing:\n",
    "Skewness is a measure of the asymmetry of the probability distribution of a random variable about its mean.\n",
    "In other words, skewness tells you the amount and direction of skew (departure from horizontal symmetry). \n",
    "The skewness value can be positive or negative, or even undefined. \n",
    "If skewness is 0, the data are perfectly symmetrical, although it is quite unlikely for real-world data. \n",
    "As a general rule of thumb:\n",
    "If skewness is less than -1 or greater than 1, the distribution is highly skewed.\n",
    "If skewness is between -1 and -0.5 or between 0.5 and 1, the distribution is moderately skewed.\n",
    "If skewness is between -0.5 and 0.5, the distribution is approximately symmetric."
   ]
  },
  {
   "cell_type": "code",
   "execution_count": 38,
   "metadata": {},
   "outputs": [
    {
     "name": "stdout",
     "output_type": "stream",
     "text": [
      "Hour                                    -0.014872\n",
      "Immobilized_bus                          1.883690\n",
      "Broken_Truck                             1.579209\n",
      "Vehicle_excess                           0.000000\n",
      "Accident_victim                          1.242526\n",
      "Running_over                             2.797894\n",
      "Fire_vehicles                            0.000000\n",
      "Occurrence_involving_freight             0.000000\n",
      "Incident_involving_dangerous_freight     0.000000\n",
      "Lack_of_electricity                      3.871362\n",
      "Fire                                     0.000000\n",
      "Point_of_flooding                        9.696256\n",
      "Manifestations                           0.000000\n",
      "Defect_in_the_network_of_trolleybuses    2.758370\n",
      "Tree_on_the_road                         0.000000\n",
      "Semaphore_off                            3.002870\n",
      "Intermittent_Semaphore                   0.000000\n",
      "Slowness_in_traffic_percent              1.012805\n",
      "dtype: float64\n"
     ]
    }
   ],
   "source": [
    "print(data_working_out.skew())"
   ]
  },
  {
   "cell_type": "code",
   "execution_count": 39,
   "metadata": {},
   "outputs": [
    {
     "data": {
      "text/plain": [
       "41     0.0\n",
       "42     1.0\n",
       "43     0.0\n",
       "44     0.0\n",
       "46     0.0\n",
       "47     0.0\n",
       "48     0.0\n",
       "49     0.0\n",
       "50     0.0\n",
       "51     0.0\n",
       "52     1.0\n",
       "54     0.0\n",
       "55     0.0\n",
       "57     0.0\n",
       "58     0.0\n",
       "61     0.0\n",
       "62     0.0\n",
       "63     0.0\n",
       "64     0.0\n",
       "66     0.0\n",
       "67     0.0\n",
       "68     0.0\n",
       "71     0.0\n",
       "72     0.0\n",
       "73     0.0\n",
       "74     0.0\n",
       "75     1.0\n",
       "76     1.0\n",
       "78     0.0\n",
       "79     0.0\n",
       "      ... \n",
       "100    0.0\n",
       "101    0.0\n",
       "102    0.0\n",
       "104    0.0\n",
       "105    0.0\n",
       "106    1.0\n",
       "107    0.0\n",
       "108    0.0\n",
       "109    0.0\n",
       "111    0.0\n",
       "113    0.0\n",
       "114    0.0\n",
       "115    1.0\n",
       "118    0.0\n",
       "119    1.0\n",
       "120    1.0\n",
       "121    0.0\n",
       "122    0.0\n",
       "124    0.0\n",
       "126    0.0\n",
       "127    0.0\n",
       "128    0.0\n",
       "130    0.0\n",
       "131    0.0\n",
       "133    0.0\n",
       "134    0.0\n",
       "135    1.0\n",
       "136    0.0\n",
       "137    0.0\n",
       "139    0.0\n",
       "Name: Running_over, Length: 70, dtype: float64"
      ]
     },
     "execution_count": 39,
     "metadata": {},
     "output_type": "execute_result"
    }
   ],
   "source": [
    "data_working_out['Running_over'].tail(70)"
   ]
  },
  {
   "cell_type": "code",
   "execution_count": 40,
   "metadata": {},
   "outputs": [],
   "source": [
    "data_working_out[data_working_out < 0 ] = 0"
   ]
  },
  {
   "cell_type": "code",
   "execution_count": 41,
   "metadata": {},
   "outputs": [
    {
     "name": "stdout",
     "output_type": "stream",
     "text": [
      "1       6.6\n",
      "2       8.7\n",
      "3       9.2\n",
      "4      11.1\n",
      "5      10.9\n",
      "6       8.3\n",
      "7       8.2\n",
      "8       7.6\n",
      "9       6.4\n",
      "10      5.2\n",
      "12      4.8\n",
      "13      4.9\n",
      "14      5.1\n",
      "15      5.3\n",
      "17      5.1\n",
      "18      5.1\n",
      "19      6.7\n",
      "20      8.1\n",
      "21      9.5\n",
      "22      9.4\n",
      "23      9.9\n",
      "24     11.2\n",
      "26     11.4\n",
      "27      7.4\n",
      "29      6.3\n",
      "30      8.0\n",
      "31      9.5\n",
      "32     10.3\n",
      "33     10.3\n",
      "35      7.9\n",
      "       ... \n",
      "100    12.5\n",
      "101    12.1\n",
      "102    10.5\n",
      "104    11.1\n",
      "105    12.1\n",
      "106    13.7\n",
      "107    15.6\n",
      "108    18.3\n",
      "109    19.9\n",
      "111    22.1\n",
      "113     5.0\n",
      "114     5.5\n",
      "115     6.4\n",
      "118    10.1\n",
      "119    10.3\n",
      "120    10.9\n",
      "121    12.3\n",
      "122    11.9\n",
      "124    11.0\n",
      "126    10.3\n",
      "127    10.9\n",
      "128     8.9\n",
      "130    11.3\n",
      "131    11.3\n",
      "133    14.6\n",
      "134    17.4\n",
      "135    17.8\n",
      "136    18.1\n",
      "137    17.7\n",
      "139    12.1\n",
      "Name: Slowness_in_traffic_percent, Length: 105, dtype: float64\n"
     ]
    }
   ],
   "source": [
    "X = data_working_out.iloc[:,0:17]  #independent columns\n",
    "y = data_working_out.iloc[:,-1]    #target column i.e slowness_in_traffic_percent\n",
    "print(y)"
   ]
  },
  {
   "cell_type": "code",
   "execution_count": 42,
   "metadata": {},
   "outputs": [
    {
     "ename": "ValueError",
     "evalue": "Unknown label type: (array([ 6.6,  8.7,  9.2, 11.1, 10.9,  8.3,  8.2,  7.6,  6.4,  5.2,  4.8,\n        4.9,  5.1,  5.3,  5.1,  5.1,  6.7,  8.1,  9.5,  9.4,  9.9, 11.2,\n       11.4,  7.4,  6.3,  8. ,  9.5, 10.3, 10.3,  7.9,  7.7,  8.3,  8.5,\n        8.5,  7.4,  8.7,  7.8,  8.1,  8.3,  8.4,  9.3, 11. , 12.1, 13.1,\n       13.7, 15.3, 15.6, 11. ,  3.8,  5.3,  7.4,  6.2,  6.5,  6.7,  8.7,\n        8.2,  8. ,  6.8,  8. ,  9.2, 10.1, 12.2, 13.9, 17.1, 19.6, 19.3,\n        5. ,  5.6,  8.5,  7.6,  7.4,  7.4,  7.7,  7.9, 10.8, 12.5, 12.1,\n       10.5, 11.1, 12.1, 13.7, 15.6, 18.3, 19.9, 22.1,  5. ,  5.5,  6.4,\n       10.1, 10.3, 10.9, 12.3, 11.9, 11. , 10.3, 10.9,  8.9, 11.3, 11.3,\n       14.6, 17.4, 17.8, 18.1, 17.7, 12.1]),)",
     "output_type": "error",
     "traceback": [
      "\u001b[1;31m---------------------------------------------------------------------------\u001b[0m",
      "\u001b[1;31mValueError\u001b[0m                                Traceback (most recent call last)",
      "\u001b[1;32m<ipython-input-42-00e2cb8003a5>\u001b[0m in \u001b[0;36m<module>\u001b[1;34m\u001b[0m\n\u001b[0;32m      1\u001b[0m \u001b[1;31m#apply SelectKBest class to extract top 10 best features\u001b[0m\u001b[1;33m\u001b[0m\u001b[1;33m\u001b[0m\u001b[1;33m\u001b[0m\u001b[0m\n\u001b[0;32m      2\u001b[0m \u001b[0mbestfeatures\u001b[0m \u001b[1;33m=\u001b[0m \u001b[0mSelectKBest\u001b[0m\u001b[1;33m(\u001b[0m\u001b[0mscore_func\u001b[0m\u001b[1;33m=\u001b[0m\u001b[0mchi2\u001b[0m\u001b[1;33m,\u001b[0m \u001b[0mk\u001b[0m\u001b[1;33m=\u001b[0m\u001b[1;36m10\u001b[0m\u001b[1;33m)\u001b[0m\u001b[1;33m\u001b[0m\u001b[1;33m\u001b[0m\u001b[0m\n\u001b[1;32m----> 3\u001b[1;33m \u001b[0mfit\u001b[0m \u001b[1;33m=\u001b[0m \u001b[0mbestfeatures\u001b[0m\u001b[1;33m.\u001b[0m\u001b[0mfit\u001b[0m\u001b[1;33m(\u001b[0m\u001b[0mX\u001b[0m\u001b[1;33m,\u001b[0m\u001b[0my\u001b[0m\u001b[1;33m)\u001b[0m\u001b[1;33m\u001b[0m\u001b[1;33m\u001b[0m\u001b[0m\n\u001b[0m\u001b[0;32m      4\u001b[0m \u001b[0mdfscores\u001b[0m \u001b[1;33m=\u001b[0m \u001b[0mpd\u001b[0m\u001b[1;33m.\u001b[0m\u001b[0mDataFrame\u001b[0m\u001b[1;33m(\u001b[0m\u001b[0mfit\u001b[0m\u001b[1;33m.\u001b[0m\u001b[0mscores_\u001b[0m\u001b[1;33m)\u001b[0m\u001b[1;33m\u001b[0m\u001b[1;33m\u001b[0m\u001b[0m\n\u001b[0;32m      5\u001b[0m \u001b[0mdfcolumns\u001b[0m \u001b[1;33m=\u001b[0m \u001b[0mpd\u001b[0m\u001b[1;33m.\u001b[0m\u001b[0mDataFrame\u001b[0m\u001b[1;33m(\u001b[0m\u001b[0mX\u001b[0m\u001b[1;33m.\u001b[0m\u001b[0mcolumns\u001b[0m\u001b[1;33m)\u001b[0m\u001b[1;33m\u001b[0m\u001b[1;33m\u001b[0m\u001b[0m\n",
      "\u001b[1;32m~\\AppData\\Local\\Continuum\\anaconda3\\lib\\site-packages\\sklearn\\feature_selection\\univariate_selection.py\u001b[0m in \u001b[0;36mfit\u001b[1;34m(self, X, y)\u001b[0m\n\u001b[0;32m    347\u001b[0m \u001b[1;33m\u001b[0m\u001b[0m\n\u001b[0;32m    348\u001b[0m         \u001b[0mself\u001b[0m\u001b[1;33m.\u001b[0m\u001b[0m_check_params\u001b[0m\u001b[1;33m(\u001b[0m\u001b[0mX\u001b[0m\u001b[1;33m,\u001b[0m \u001b[0my\u001b[0m\u001b[1;33m)\u001b[0m\u001b[1;33m\u001b[0m\u001b[1;33m\u001b[0m\u001b[0m\n\u001b[1;32m--> 349\u001b[1;33m         \u001b[0mscore_func_ret\u001b[0m \u001b[1;33m=\u001b[0m \u001b[0mself\u001b[0m\u001b[1;33m.\u001b[0m\u001b[0mscore_func\u001b[0m\u001b[1;33m(\u001b[0m\u001b[0mX\u001b[0m\u001b[1;33m,\u001b[0m \u001b[0my\u001b[0m\u001b[1;33m)\u001b[0m\u001b[1;33m\u001b[0m\u001b[1;33m\u001b[0m\u001b[0m\n\u001b[0m\u001b[0;32m    350\u001b[0m         \u001b[1;32mif\u001b[0m \u001b[0misinstance\u001b[0m\u001b[1;33m(\u001b[0m\u001b[0mscore_func_ret\u001b[0m\u001b[1;33m,\u001b[0m \u001b[1;33m(\u001b[0m\u001b[0mlist\u001b[0m\u001b[1;33m,\u001b[0m \u001b[0mtuple\u001b[0m\u001b[1;33m)\u001b[0m\u001b[1;33m)\u001b[0m\u001b[1;33m:\u001b[0m\u001b[1;33m\u001b[0m\u001b[1;33m\u001b[0m\u001b[0m\n\u001b[0;32m    351\u001b[0m             \u001b[0mself\u001b[0m\u001b[1;33m.\u001b[0m\u001b[0mscores_\u001b[0m\u001b[1;33m,\u001b[0m \u001b[0mself\u001b[0m\u001b[1;33m.\u001b[0m\u001b[0mpvalues_\u001b[0m \u001b[1;33m=\u001b[0m \u001b[0mscore_func_ret\u001b[0m\u001b[1;33m\u001b[0m\u001b[1;33m\u001b[0m\u001b[0m\n",
      "\u001b[1;32m~\\AppData\\Local\\Continuum\\anaconda3\\lib\\site-packages\\sklearn\\feature_selection\\univariate_selection.py\u001b[0m in \u001b[0;36mchi2\u001b[1;34m(X, y)\u001b[0m\n\u001b[0;32m    216\u001b[0m         \u001b[1;32mraise\u001b[0m \u001b[0mValueError\u001b[0m\u001b[1;33m(\u001b[0m\u001b[1;34m\"Input X must be non-negative.\"\u001b[0m\u001b[1;33m)\u001b[0m\u001b[1;33m\u001b[0m\u001b[1;33m\u001b[0m\u001b[0m\n\u001b[0;32m    217\u001b[0m \u001b[1;33m\u001b[0m\u001b[0m\n\u001b[1;32m--> 218\u001b[1;33m     \u001b[0mY\u001b[0m \u001b[1;33m=\u001b[0m \u001b[0mLabelBinarizer\u001b[0m\u001b[1;33m(\u001b[0m\u001b[1;33m)\u001b[0m\u001b[1;33m.\u001b[0m\u001b[0mfit_transform\u001b[0m\u001b[1;33m(\u001b[0m\u001b[0my\u001b[0m\u001b[1;33m)\u001b[0m\u001b[1;33m\u001b[0m\u001b[1;33m\u001b[0m\u001b[0m\n\u001b[0m\u001b[0;32m    219\u001b[0m     \u001b[1;32mif\u001b[0m \u001b[0mY\u001b[0m\u001b[1;33m.\u001b[0m\u001b[0mshape\u001b[0m\u001b[1;33m[\u001b[0m\u001b[1;36m1\u001b[0m\u001b[1;33m]\u001b[0m \u001b[1;33m==\u001b[0m \u001b[1;36m1\u001b[0m\u001b[1;33m:\u001b[0m\u001b[1;33m\u001b[0m\u001b[1;33m\u001b[0m\u001b[0m\n\u001b[0;32m    220\u001b[0m         \u001b[0mY\u001b[0m \u001b[1;33m=\u001b[0m \u001b[0mnp\u001b[0m\u001b[1;33m.\u001b[0m\u001b[0mappend\u001b[0m\u001b[1;33m(\u001b[0m\u001b[1;36m1\u001b[0m \u001b[1;33m-\u001b[0m \u001b[0mY\u001b[0m\u001b[1;33m,\u001b[0m \u001b[0mY\u001b[0m\u001b[1;33m,\u001b[0m \u001b[0maxis\u001b[0m\u001b[1;33m=\u001b[0m\u001b[1;36m1\u001b[0m\u001b[1;33m)\u001b[0m\u001b[1;33m\u001b[0m\u001b[1;33m\u001b[0m\u001b[0m\n",
      "\u001b[1;32m~\\AppData\\Local\\Continuum\\anaconda3\\lib\\site-packages\\sklearn\\preprocessing\\label.py\u001b[0m in \u001b[0;36mfit_transform\u001b[1;34m(self, y)\u001b[0m\n\u001b[0;32m    437\u001b[0m             \u001b[0mShape\u001b[0m \u001b[0mwill\u001b[0m \u001b[0mbe\u001b[0m \u001b[1;33m[\u001b[0m\u001b[0mn_samples\u001b[0m\u001b[1;33m,\u001b[0m \u001b[1;36m1\u001b[0m\u001b[1;33m]\u001b[0m \u001b[1;32mfor\u001b[0m \u001b[0mbinary\u001b[0m \u001b[0mproblems\u001b[0m\u001b[1;33m.\u001b[0m\u001b[1;33m\u001b[0m\u001b[1;33m\u001b[0m\u001b[0m\n\u001b[0;32m    438\u001b[0m         \"\"\"\n\u001b[1;32m--> 439\u001b[1;33m         \u001b[1;32mreturn\u001b[0m \u001b[0mself\u001b[0m\u001b[1;33m.\u001b[0m\u001b[0mfit\u001b[0m\u001b[1;33m(\u001b[0m\u001b[0my\u001b[0m\u001b[1;33m)\u001b[0m\u001b[1;33m.\u001b[0m\u001b[0mtransform\u001b[0m\u001b[1;33m(\u001b[0m\u001b[0my\u001b[0m\u001b[1;33m)\u001b[0m\u001b[1;33m\u001b[0m\u001b[1;33m\u001b[0m\u001b[0m\n\u001b[0m\u001b[0;32m    440\u001b[0m \u001b[1;33m\u001b[0m\u001b[0m\n\u001b[0;32m    441\u001b[0m     \u001b[1;32mdef\u001b[0m \u001b[0mtransform\u001b[0m\u001b[1;33m(\u001b[0m\u001b[0mself\u001b[0m\u001b[1;33m,\u001b[0m \u001b[0my\u001b[0m\u001b[1;33m)\u001b[0m\u001b[1;33m:\u001b[0m\u001b[1;33m\u001b[0m\u001b[1;33m\u001b[0m\u001b[0m\n",
      "\u001b[1;32m~\\AppData\\Local\\Continuum\\anaconda3\\lib\\site-packages\\sklearn\\preprocessing\\label.py\u001b[0m in \u001b[0;36mfit\u001b[1;34m(self, y)\u001b[0m\n\u001b[0;32m    414\u001b[0m \u001b[1;33m\u001b[0m\u001b[0m\n\u001b[0;32m    415\u001b[0m         \u001b[0mself\u001b[0m\u001b[1;33m.\u001b[0m\u001b[0msparse_input_\u001b[0m \u001b[1;33m=\u001b[0m \u001b[0msp\u001b[0m\u001b[1;33m.\u001b[0m\u001b[0missparse\u001b[0m\u001b[1;33m(\u001b[0m\u001b[0my\u001b[0m\u001b[1;33m)\u001b[0m\u001b[1;33m\u001b[0m\u001b[1;33m\u001b[0m\u001b[0m\n\u001b[1;32m--> 416\u001b[1;33m         \u001b[0mself\u001b[0m\u001b[1;33m.\u001b[0m\u001b[0mclasses_\u001b[0m \u001b[1;33m=\u001b[0m \u001b[0munique_labels\u001b[0m\u001b[1;33m(\u001b[0m\u001b[0my\u001b[0m\u001b[1;33m)\u001b[0m\u001b[1;33m\u001b[0m\u001b[1;33m\u001b[0m\u001b[0m\n\u001b[0m\u001b[0;32m    417\u001b[0m         \u001b[1;32mreturn\u001b[0m \u001b[0mself\u001b[0m\u001b[1;33m\u001b[0m\u001b[1;33m\u001b[0m\u001b[0m\n\u001b[0;32m    418\u001b[0m \u001b[1;33m\u001b[0m\u001b[0m\n",
      "\u001b[1;32m~\\AppData\\Local\\Continuum\\anaconda3\\lib\\site-packages\\sklearn\\utils\\multiclass.py\u001b[0m in \u001b[0;36munique_labels\u001b[1;34m(*ys)\u001b[0m\n\u001b[0;32m     92\u001b[0m     \u001b[0m_unique_labels\u001b[0m \u001b[1;33m=\u001b[0m \u001b[0m_FN_UNIQUE_LABELS\u001b[0m\u001b[1;33m.\u001b[0m\u001b[0mget\u001b[0m\u001b[1;33m(\u001b[0m\u001b[0mlabel_type\u001b[0m\u001b[1;33m,\u001b[0m \u001b[1;32mNone\u001b[0m\u001b[1;33m)\u001b[0m\u001b[1;33m\u001b[0m\u001b[1;33m\u001b[0m\u001b[0m\n\u001b[0;32m     93\u001b[0m     \u001b[1;32mif\u001b[0m \u001b[1;32mnot\u001b[0m \u001b[0m_unique_labels\u001b[0m\u001b[1;33m:\u001b[0m\u001b[1;33m\u001b[0m\u001b[1;33m\u001b[0m\u001b[0m\n\u001b[1;32m---> 94\u001b[1;33m         \u001b[1;32mraise\u001b[0m \u001b[0mValueError\u001b[0m\u001b[1;33m(\u001b[0m\u001b[1;34m\"Unknown label type: %s\"\u001b[0m \u001b[1;33m%\u001b[0m \u001b[0mrepr\u001b[0m\u001b[1;33m(\u001b[0m\u001b[0mys\u001b[0m\u001b[1;33m)\u001b[0m\u001b[1;33m)\u001b[0m\u001b[1;33m\u001b[0m\u001b[1;33m\u001b[0m\u001b[0m\n\u001b[0m\u001b[0;32m     95\u001b[0m \u001b[1;33m\u001b[0m\u001b[0m\n\u001b[0;32m     96\u001b[0m     \u001b[0mys_labels\u001b[0m \u001b[1;33m=\u001b[0m \u001b[0mset\u001b[0m\u001b[1;33m(\u001b[0m\u001b[0mchain\u001b[0m\u001b[1;33m.\u001b[0m\u001b[0mfrom_iterable\u001b[0m\u001b[1;33m(\u001b[0m\u001b[0m_unique_labels\u001b[0m\u001b[1;33m(\u001b[0m\u001b[0my\u001b[0m\u001b[1;33m)\u001b[0m \u001b[1;32mfor\u001b[0m \u001b[0my\u001b[0m \u001b[1;32min\u001b[0m \u001b[0mys\u001b[0m\u001b[1;33m)\u001b[0m\u001b[1;33m)\u001b[0m\u001b[1;33m\u001b[0m\u001b[1;33m\u001b[0m\u001b[0m\n",
      "\u001b[1;31mValueError\u001b[0m: Unknown label type: (array([ 6.6,  8.7,  9.2, 11.1, 10.9,  8.3,  8.2,  7.6,  6.4,  5.2,  4.8,\n        4.9,  5.1,  5.3,  5.1,  5.1,  6.7,  8.1,  9.5,  9.4,  9.9, 11.2,\n       11.4,  7.4,  6.3,  8. ,  9.5, 10.3, 10.3,  7.9,  7.7,  8.3,  8.5,\n        8.5,  7.4,  8.7,  7.8,  8.1,  8.3,  8.4,  9.3, 11. , 12.1, 13.1,\n       13.7, 15.3, 15.6, 11. ,  3.8,  5.3,  7.4,  6.2,  6.5,  6.7,  8.7,\n        8.2,  8. ,  6.8,  8. ,  9.2, 10.1, 12.2, 13.9, 17.1, 19.6, 19.3,\n        5. ,  5.6,  8.5,  7.6,  7.4,  7.4,  7.7,  7.9, 10.8, 12.5, 12.1,\n       10.5, 11.1, 12.1, 13.7, 15.6, 18.3, 19.9, 22.1,  5. ,  5.5,  6.4,\n       10.1, 10.3, 10.9, 12.3, 11.9, 11. , 10.3, 10.9,  8.9, 11.3, 11.3,\n       14.6, 17.4, 17.8, 18.1, 17.7, 12.1]),)"
     ]
    }
   ],
   "source": [
    "#apply SelectKBest class to extract top 10 best features\n",
    "bestfeatures = SelectKBest(score_func=chi2, k=10)\n",
    "fit = bestfeatures.fit(X,y)\n",
    "dfscores = pd.DataFrame(fit.scores_)\n",
    "dfcolumns = pd.DataFrame(X.columns)\n",
    "#concat two dataframes for better visualization \n",
    "featureScores = pd.concat([dfcolumns,dfscores],axis=1)\n",
    "featureScores.columns = ['Specs','Score']  #naming the dataframe columns\n",
    "print(featureScores.nlargest(10,'Score'))  #print 10 best features"
   ]
  },
  {
   "cell_type": "markdown",
   "metadata": {},
   "source": [
    "Univariate Analysis"
   ]
  },
  {
   "cell_type": "code",
   "execution_count": 43,
   "metadata": {},
   "outputs": [],
   "source": [
    "# Set the color coding for the visualizations to be plotted\n",
    "from matplotlib import cm\n",
    "cmap = cm.get_cmap('jet')\n",
    "cmap1 = cm.get_cmap('Spectral')"
   ]
  },
  {
   "cell_type": "code",
   "execution_count": 44,
   "metadata": {},
   "outputs": [
    {
     "data": {
      "image/png": "[encoded data removed]",
      "text/plain": [
       "<Figure size 1440x720 with 4 Axes>"
      ]
     },
     "metadata": {
      "needs_background": "light"
     },
     "output_type": "display_data"
    },
    {
     "data": {
      "image/png": "[encoded data removed]",
      "text/plain": [
       "<Figure size 432x288 with 1 Axes>"
      ]
     },
     "metadata": {
      "needs_background": "light"
     },
     "output_type": "display_data"
    },
    {
     "data": {
      "image/png": "[encoded data removed]",
      "text/plain": [
       "<Figure size 432x288 with 1 Axes>"
      ]
     },
     "metadata": {
      "needs_background": "light"
     },
     "output_type": "display_data"
    },
    {
     "data": {
      "image/png": "[encoded data removed]",
      "text/plain": [
       "<Figure size 432x288 with 1 Axes>"
      ]
     },
     "metadata": {
      "needs_background": "light"
     },
     "output_type": "display_data"
    },
    {
     "data": {
      "image/png": "[encoded data removed]",
      "text/plain": [
       "<Figure size 432x288 with 1 Axes>"
      ]
     },
     "metadata": {
      "needs_background": "light"
     },
     "output_type": "display_data"
    },
    {
     "data": {
      "image/png": "[encoded data removed]",
      "text/plain": [
       "<Figure size 432x288 with 1 Axes>"
      ]
     },
     "metadata": {
      "needs_background": "light"
     },
     "output_type": "display_data"
    },
    {
     "data": {
      "image/png": "[encoded data removed]",
      "text/plain": [
       "<Figure size 432x288 with 1 Axes>"
      ]
     },
     "metadata": {
      "needs_background": "light"
     },
     "output_type": "display_data"
    },
    {
     "data": {
      "image/png": "[encoded data removed]",
      "text/plain": [
       "<Figure size 432x288 with 1 Axes>"
      ]
     },
     "metadata": {
      "needs_background": "light"
     },
     "output_type": "display_data"
    },
    {
     "data": {
      "image/png": "[encoded data removed]",
      "text/plain": [
       "<Figure size 432x288 with 1 Axes>"
      ]
     },
     "metadata": {
      "needs_background": "light"
     },
     "output_type": "display_data"
    },
    {
     "data": {
      "image/png": "[encoded data removed]",
      "text/plain": [
       "<Figure size 432x288 with 1 Axes>"
      ]
     },
     "metadata": {
      "needs_background": "light"
     },
     "output_type": "display_data"
    },
    {
     "data": {
      "image/png": "[encoded data removed]",
      "text/plain": [
       "<Figure size 432x288 with 1 Axes>"
      ]
     },
     "metadata": {
      "needs_background": "light"
     },
     "output_type": "display_data"
    },
    {
     "data": {
      "image/png": "[encoded data removed]",
      "text/plain": [
       "<Figure size 432x288 with 1 Axes>"
      ]
     },
     "metadata": {
      "needs_background": "light"
     },
     "output_type": "display_data"
    },
    {
     "data": {
      "image/png": "[encoded data removed]",
      "text/plain": [
       "<Figure size 432x288 with 1 Axes>"
      ]
     },
     "metadata": {
      "needs_background": "light"
     },
     "output_type": "display_data"
    },
    {
     "data": {
      "image/png": "[encoded data removed]",
      "text/plain": [
       "<Figure size 432x288 with 1 Axes>"
      ]
     },
     "metadata": {
      "needs_background": "light"
     },
     "output_type": "display_data"
    }
   ],
   "source": [
    "#Prepare a 2 by 2 layout two render these categorical attributes\n",
    "plt.figure(1) \n",
    "\n",
    "plt.subplot(221) \n",
    "data_working_out['Hour'].value_counts(normalize=True).plot.barh(figsize=(20,10), cmap=cmap, title= 'Hour') \n",
    "\n",
    "plt.subplot(222) \n",
    "data_working_out['Immobilized_bus'].value_counts(normalize=True).plot.barh(title= 'Immobilized_bus', cmap=cmap1) \n",
    "\n",
    "plt.subplot(223) \n",
    "data_working_out['Broken_Truck'].value_counts(normalize=True).plot.barh(title= 'Broken_Truck', cmap=cmap1) \n",
    "\n",
    "plt.subplot(224) \n",
    "data_working_out['Vehicle_excess'].value_counts(normalize=True).plot.barh(title= 'Vehicle_excess', cmap=cmap) \n",
    "plt.show()\n",
    "\n",
    "plt.subplot(224) \n",
    "data_working_out['Accident_victim'].value_counts(normalize=True).plot.barh(title= 'Accident_victim', cmap=cmap) \n",
    "plt.show()\n",
    "\n",
    "plt.subplot(224) \n",
    "data_working_out['Running_over'].value_counts(normalize=True).plot.barh(title= 'Running_over', cmap=cmap) \n",
    "plt.show()\n",
    "\n",
    "plt.subplot(224) \n",
    "data_working_out['Fire_vehicles'].value_counts(normalize=True).plot.barh(title= 'Fire_vehicles', cmap=cmap) \n",
    "plt.show()\n",
    "\n",
    "plt.subplot(224) \n",
    "data_working_out['Occurrence_involving_freight'].value_counts(normalize=True).plot.barh(title= 'Occurrence_involving_freight', cmap=cmap) \n",
    "plt.show()\n",
    "\n",
    "plt.subplot(224) \n",
    "data_working_out['Incident_involving_dangerous_freight'].value_counts(normalize=True).plot.barh(title= 'Incident_involving_dangerous_freight', cmap=cmap) \n",
    "plt.show()\n",
    "\n",
    "plt.subplot(224) \n",
    "data_working_out['Lack_of_electricity'].value_counts(normalize=True).plot.barh(title= 'Lack_of_electricity', cmap=cmap) \n",
    "plt.show()\n",
    "\n",
    "plt.subplot(224) \n",
    "data_working_out['Fire'].value_counts(normalize=True).plot.barh(title= 'Fire', cmap=cmap) \n",
    "plt.show()\n",
    "\n",
    "plt.subplot(224) \n",
    "data_working_out['Point_of_flooding'].value_counts(normalize=True).plot.barh(title= 'Point_of_flooding', cmap=cmap) \n",
    "plt.show()\n",
    "\n",
    "plt.subplot(224) \n",
    "data_working_out['Manifestations'].value_counts(normalize=True).plot.barh(title= 'Manifestations', cmap=cmap) \n",
    "plt.show()\n",
    "\n",
    "plt.subplot(224) \n",
    "data_working_out['Defect_in_the_network_of_trolleybuses'].value_counts(normalize=True).plot.barh(title= 'Defect_in_the_network_of_trolleybuses', cmap=cmap) \n",
    "plt.show()\n",
    "\n",
    "plt.subplot(224) \n",
    "data_working_out['Tree_on_the_road'].value_counts(normalize=True).plot.barh(title= 'Tree_on_the_road', cmap=cmap) \n",
    "plt.show()\n",
    "\n",
    "plt.subplot(224) \n",
    "data_working_out['Semaphore_off'].value_counts(normalize=True).plot.barh(title= 'Semaphore_off', cmap=cmap) \n",
    "plt.show()\n",
    "\n",
    "plt.subplot(224) \n",
    "data_working_out['Intermittent_Semaphore'].value_counts(normalize=True).plot.barh(title= 'Intermittent_Semaphore', cmap=cmap) \n",
    "plt.show()"
   ]
  },
  {
   "cell_type": "code",
   "execution_count": 45,
   "metadata": {},
   "outputs": [
    {
     "data": {
      "text/plain": [
       "Index(['Hour', 'Immobilized_bus', 'Broken_Truck', 'Vehicle_excess',\n",
       "       'Accident_victim', 'Running_over', 'Fire_vehicles',\n",
       "       'Occurrence_involving_freight', 'Incident_involving_dangerous_freight',\n",
       "       'Lack_of_electricity', 'Fire', 'Point_of_flooding', 'Manifestations',\n",
       "       'Defect_in_the_network_of_trolleybuses', 'Tree_on_the_road',\n",
       "       'Semaphore_off', 'Intermittent_Semaphore',\n",
       "       'Slowness_in_traffic_percent'],\n",
       "      dtype='object')"
      ]
     },
     "execution_count": 45,
     "metadata": {},
     "output_type": "execute_result"
    }
   ],
   "source": [
    "data_working_out.columns"
   ]
  },
  {
   "cell_type": "code",
   "execution_count": 46,
   "metadata": {},
   "outputs": [
    {
     "data": {
      "image/png": "[encoded data removed]",
      "text/plain": [
       "<Figure size 1152x360 with 2 Axes>"
      ]
     },
     "metadata": {
      "needs_background": "light"
     },
     "output_type": "display_data"
    },
    {
     "data": {
      "image/png": "[encoded data removed]",
      "text/plain": [
       "<Figure size 1152x360 with 2 Axes>"
      ]
     },
     "metadata": {
      "needs_background": "light"
     },
     "output_type": "display_data"
    },
    {
     "data": {
      "image/png": "[encoded data removed]",
      "text/plain": [
       "<Figure size 1152x360 with 2 Axes>"
      ]
     },
     "metadata": {
      "needs_background": "light"
     },
     "output_type": "display_data"
    },
    {
     "data": {
      "image/png": "[encoded data removed]",
      "text/plain": [
       "<Figure size 1152x360 with 2 Axes>"
      ]
     },
     "metadata": {
      "needs_background": "light"
     },
     "output_type": "display_data"
    },
    {
     "data": {
      "image/png": "[encoded data removed]",
      "text/plain": [
       "<Figure size 1152x360 with 2 Axes>"
      ]
     },
     "metadata": {
      "needs_background": "light"
     },
     "output_type": "display_data"
    }
   ],
   "source": [
    "#Prepare a layout to render these numerical attributes\n",
    "plt.figure(1) \n",
    "plt.subplot(121) \n",
    "sns.distplot(data_working_out['Lack_of_electricity'], hist=True, kde=False); \n",
    "\n",
    "plt.subplot(122) \n",
    "data_working_out['Lack_of_electricity'].plot.box(figsize=(16,5)) \n",
    "plt.show()\n",
    "\n",
    "plt.figure(1) \n",
    "plt.subplot(121) \n",
    "sns.distplot(data_working_out['Semaphore_off'], hist=True, kde=False); \n",
    "\n",
    "plt.subplot(122) \n",
    "data_working_out['Semaphore_off'].plot.box(figsize=(16,5)) \n",
    "plt.show()\n",
    "\n",
    "plt.figure(1) \n",
    "plt.subplot(121) \n",
    "sns.distplot(data_working_out['Fire_vehicles'], hist=True, kde=False); \n",
    "\n",
    "plt.subplot(122) \n",
    "data_working_out['Fire_vehicles'].plot.box(figsize=(16,5)) \n",
    "plt.show()\n",
    "\n",
    "plt.figure(1) \n",
    "plt.subplot(121) \n",
    "sns.distplot(data_working_out['Running_over'], hist=True, kde=False); \n",
    "\n",
    "plt.subplot(122) \n",
    "data_working_out['Running_over'].plot.box(figsize=(16,5)) \n",
    "plt.show()\n",
    "\n",
    "plt.figure(1) \n",
    "plt.subplot(121) \n",
    "sns.distplot(data_working_out['Immobilized_bus'], hist=True, kde=False); \n",
    "\n",
    "plt.subplot(122) \n",
    "data_working_out['Immobilized_bus'].plot.box(figsize=(16,5)) \n",
    "plt.show()"
   ]
  },
  {
   "cell_type": "markdown",
   "metadata": {},
   "source": [
    "Bivariate "
   ]
  },
  {
   "cell_type": "code",
   "execution_count": 47,
   "metadata": {},
   "outputs": [],
   "source": [
    "#Set the visuzalization style\n",
    "from matplotlib import cm\n",
    "cmap = cm.get_cmap('Spectral')"
   ]
  },
  {
   "cell_type": "markdown",
   "metadata": {},
   "source": [
    "Now lets look at the correlation between all the numerical variables. We will use the heat map to visualize the correlation. Heatmaps visualize data through variations in coloring. \n",
    "The variables with darker color means their correlation is more."
   ]
  },
  {
   "cell_type": "code",
   "execution_count": 49,
   "metadata": {},
   "outputs": [
    {
     "data": {
      "image/png": "[encoded data removed]",
      "text/plain": [
       "<Figure size 648x432 with 2 Axes>"
      ]
     },
     "metadata": {
      "needs_background": "light"
     },
     "output_type": "display_data"
    }
   ],
   "source": [
    "matrix = data_working_out.corr() \n",
    "f, ax = plt.subplots(figsize=(9, 6)) \n",
    "sns.heatmap(matrix, vmax=.8, square=True, cmap=\"OrRd\");"
   ]
  },
  {
   "cell_type": "code",
   "execution_count": null,
   "metadata": {},
   "outputs": [],
   "source": []
  },
  {
   "cell_type": "code",
   "execution_count": null,
   "metadata": {},
   "outputs": [],
   "source": []
  },
  {
   "cell_type": "code",
   "execution_count": null,
   "metadata": {},
   "outputs": [],
   "source": []
  }
 ],
 "metadata": {
  "kernelspec": {
   "display_name": "Python 3",
   "language": "python",
   "name": "python3"
  },
  "language_info": {
   "codemirror_mode": {
    "name": "ipython",
    "version": 3
   },
   "file_extension": ".py",
   "mimetype": "text/x-python",
   "name": "python",
   "nbconvert_exporter": "python",
   "pygments_lexer": "ipython3",
   "version": "3.7.3"
  }
 },
 "nbformat": 4,
 "nbformat_minor": 2
}
