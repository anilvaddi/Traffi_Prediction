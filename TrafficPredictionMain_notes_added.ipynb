{
 "cells": [
  {
   "cell_type": "code",
   "execution_count": 2,
   "metadata": {},
   "outputs": [],
   "source": [
    "import os\n",
    "import numpy as np\n",
    "import pandas as pd\n",
    "import math\n",
    "import matplotlib.pyplot as plt\n",
    "from scipy import stats\n",
    "from sklearn.model_selection import train_test_split\n",
    "from sklearn.feature_selection import SelectKBest\n",
    "from sklearn.feature_selection import f_classif\n",
    "from sklearn.feature_selection import chi2\n",
    "from sklearn.feature_selection import mutual_info_classif\n",
    "\n",
    "import warnings\n",
    "warnings.filterwarnings('ignore')"
   ]
  },
  {
   "cell_type": "markdown",
   "metadata": {},
   "source": [
    "# 1.1 File Processing"
   ]
  },
  {
   "cell_type": "markdown",
   "metadata": {},
   "source": [
    "As we are given arff file, we are converting this to CSV, so that we can easily read the data using pandas"
   ]
  },
  {
   "cell_type": "code",
   "execution_count": 3,
   "metadata": {},
   "outputs": [],
   "source": [
    "# Function for converting arff list to csv list\n",
    "def toCsv(content):\n",
    "    data = False\n",
    "    header = \"\"\n",
    "    newContent = []\n",
    "    for line in content:\n",
    "        if not data:\n",
    "            if \"@attribute\" in line:\n",
    "                attri = line.split()\n",
    "                columnName = attri[attri.index(\"@attribute\")+1]\n",
    "                header = header + columnName + \",\"\n",
    "            elif \"@data\" in line:\n",
    "                data = True\n",
    "                header = header[:-1]\n",
    "                header += '\\n'\n",
    "                newContent.append(header)\n",
    "        else:\n",
    "            newContent.append(line)\n",
    "    return newContent\n"
   ]
  },
  {
   "cell_type": "code",
   "execution_count": 4,
   "metadata": {},
   "outputs": [],
   "source": [
    "with open(\"Behavior of the urban traffic - modified.arff\" , \"r\") as inFile:\n",
    "        content = inFile.readlines()\n",
    "        name,ext = os.path.splitext(inFile.name)\n",
    "        new = toCsv(content)\n",
    "        with open(name+\".csv\", \"w\") as outFile:\n",
    "            outFile.writelines(new)"
   ]
  },
  {
   "cell_type": "code",
   "execution_count": 5,
   "metadata": {},
   "outputs": [],
   "source": [
    "data = pd.read_csv(\"Behavior of the urban traffic - modified.csv\")"
   ]
  },
  {
   "cell_type": "markdown",
   "metadata": {},
   "source": [
    "# 1.2 Data Preprocessing"
   ]
  },
  {
   "cell_type": "markdown",
   "metadata": {},
   "source": [
    " As part of Data Preprocessing step we do the following steps:\n",
    "        1)Understand the data \n",
    "        2)Replace missing values with appropriate methods\n",
    "        3)Understand outliers using different graphs\n",
    "        4)Remove outliers using proper techniques\n",
    "        5)Converting all the data from int/float"
   ]
  },
  {
   "cell_type": "code",
   "execution_count": 6,
   "metadata": {},
   "outputs": [
    {
     "data": {
      "text/html": [
       "<div>\n",
       "<style scoped>\n",
       "    .dataframe tbody tr th:only-of-type {\n",
       "        vertical-align: middle;\n",
       "    }\n",
       "\n",
       "    .dataframe tbody tr th {\n",
       "        vertical-align: top;\n",
       "    }\n",
       "\n",
       "    .dataframe thead th {\n",
       "        text-align: right;\n",
       "    }\n",
       "</style>\n",
       "<table border=\"1\" class=\"dataframe\">\n",
       "  <thead>\n",
       "    <tr style=\"text-align: right;\">\n",
       "      <th></th>\n",
       "      <th>Hour</th>\n",
       "      <th>Immobilized_bus</th>\n",
       "      <th>Broken_Truck</th>\n",
       "      <th>Vehicle_excess</th>\n",
       "      <th>Accident_victim</th>\n",
       "      <th>Running_over</th>\n",
       "      <th>Fire_vehicles</th>\n",
       "      <th>Occurrence_involving_freight</th>\n",
       "      <th>Incident_involving_dangerous_freight</th>\n",
       "      <th>Lack_of_electricity</th>\n",
       "      <th>Fire</th>\n",
       "      <th>Point_of_flooding</th>\n",
       "      <th>Manifestations</th>\n",
       "      <th>Defect_in_the_network_of_trolleybuses</th>\n",
       "      <th>Tree_on_the_road</th>\n",
       "      <th>Semaphore_off</th>\n",
       "      <th>Intermittent_Semaphore</th>\n",
       "      <th>Slowness_in_traffic_percent</th>\n",
       "    </tr>\n",
       "  </thead>\n",
       "  <tbody>\n",
       "    <tr>\n",
       "      <th>count</th>\n",
       "      <td>140</td>\n",
       "      <td>140.000000</td>\n",
       "      <td>140.000000</td>\n",
       "      <td>140</td>\n",
       "      <td>140</td>\n",
       "      <td>140</td>\n",
       "      <td>140</td>\n",
       "      <td>140.000000</td>\n",
       "      <td>140</td>\n",
       "      <td>140.000000</td>\n",
       "      <td>140.000000</td>\n",
       "      <td>140.000000</td>\n",
       "      <td>140.000000</td>\n",
       "      <td>140</td>\n",
       "      <td>140.000000</td>\n",
       "      <td>140</td>\n",
       "      <td>140.000000</td>\n",
       "      <td>140.000000</td>\n",
       "    </tr>\n",
       "    <tr>\n",
       "      <th>unique</th>\n",
       "      <td>27</td>\n",
       "      <td>NaN</td>\n",
       "      <td>NaN</td>\n",
       "      <td>3</td>\n",
       "      <td>6</td>\n",
       "      <td>5</td>\n",
       "      <td>3</td>\n",
       "      <td>NaN</td>\n",
       "      <td>3</td>\n",
       "      <td>NaN</td>\n",
       "      <td>NaN</td>\n",
       "      <td>NaN</td>\n",
       "      <td>NaN</td>\n",
       "      <td>6</td>\n",
       "      <td>NaN</td>\n",
       "      <td>5</td>\n",
       "      <td>NaN</td>\n",
       "      <td>NaN</td>\n",
       "    </tr>\n",
       "    <tr>\n",
       "      <th>top</th>\n",
       "      <td>11:00</td>\n",
       "      <td>NaN</td>\n",
       "      <td>NaN</td>\n",
       "      <td>F</td>\n",
       "      <td>0.0</td>\n",
       "      <td>0.0</td>\n",
       "      <td>NO</td>\n",
       "      <td>NaN</td>\n",
       "      <td>0.0</td>\n",
       "      <td>NaN</td>\n",
       "      <td>NaN</td>\n",
       "      <td>NaN</td>\n",
       "      <td>NaN</td>\n",
       "      <td>0.0</td>\n",
       "      <td>NaN</td>\n",
       "      <td>0.0</td>\n",
       "      <td>NaN</td>\n",
       "      <td>NaN</td>\n",
       "    </tr>\n",
       "    <tr>\n",
       "      <th>freq</th>\n",
       "      <td>6</td>\n",
       "      <td>NaN</td>\n",
       "      <td>NaN</td>\n",
       "      <td>128</td>\n",
       "      <td>91</td>\n",
       "      <td>124</td>\n",
       "      <td>138</td>\n",
       "      <td>NaN</td>\n",
       "      <td>137</td>\n",
       "      <td>NaN</td>\n",
       "      <td>NaN</td>\n",
       "      <td>NaN</td>\n",
       "      <td>NaN</td>\n",
       "      <td>118</td>\n",
       "      <td>NaN</td>\n",
       "      <td>125</td>\n",
       "      <td>NaN</td>\n",
       "      <td>NaN</td>\n",
       "    </tr>\n",
       "    <tr>\n",
       "      <th>mean</th>\n",
       "      <td>NaN</td>\n",
       "      <td>0.335714</td>\n",
       "      <td>8.007143</td>\n",
       "      <td>NaN</td>\n",
       "      <td>NaN</td>\n",
       "      <td>NaN</td>\n",
       "      <td>NaN</td>\n",
       "      <td>0.007143</td>\n",
       "      <td>NaN</td>\n",
       "      <td>0.114286</td>\n",
       "      <td>0.007143</td>\n",
       "      <td>14.400000</td>\n",
       "      <td>0.035714</td>\n",
       "      <td>NaN</td>\n",
       "      <td>0.042857</td>\n",
       "      <td>NaN</td>\n",
       "      <td>0.014286</td>\n",
       "      <td>9.980714</td>\n",
       "    </tr>\n",
       "    <tr>\n",
       "      <th>std</th>\n",
       "      <td>NaN</td>\n",
       "      <td>0.652728</td>\n",
       "      <td>84.448912</td>\n",
       "      <td>NaN</td>\n",
       "      <td>NaN</td>\n",
       "      <td>NaN</td>\n",
       "      <td>NaN</td>\n",
       "      <td>0.084515</td>\n",
       "      <td>NaN</td>\n",
       "      <td>0.495820</td>\n",
       "      <td>0.084515</td>\n",
       "      <td>169.022573</td>\n",
       "      <td>0.221529</td>\n",
       "      <td>NaN</td>\n",
       "      <td>0.203262</td>\n",
       "      <td>NaN</td>\n",
       "      <td>0.119092</td>\n",
       "      <td>4.323583</td>\n",
       "    </tr>\n",
       "    <tr>\n",
       "      <th>min</th>\n",
       "      <td>NaN</td>\n",
       "      <td>0.000000</td>\n",
       "      <td>0.000000</td>\n",
       "      <td>NaN</td>\n",
       "      <td>NaN</td>\n",
       "      <td>NaN</td>\n",
       "      <td>NaN</td>\n",
       "      <td>0.000000</td>\n",
       "      <td>NaN</td>\n",
       "      <td>0.000000</td>\n",
       "      <td>0.000000</td>\n",
       "      <td>0.000000</td>\n",
       "      <td>-1.000000</td>\n",
       "      <td>NaN</td>\n",
       "      <td>0.000000</td>\n",
       "      <td>NaN</td>\n",
       "      <td>0.000000</td>\n",
       "      <td>3.400000</td>\n",
       "    </tr>\n",
       "    <tr>\n",
       "      <th>25%</th>\n",
       "      <td>NaN</td>\n",
       "      <td>0.000000</td>\n",
       "      <td>0.000000</td>\n",
       "      <td>NaN</td>\n",
       "      <td>NaN</td>\n",
       "      <td>NaN</td>\n",
       "      <td>NaN</td>\n",
       "      <td>0.000000</td>\n",
       "      <td>NaN</td>\n",
       "      <td>0.000000</td>\n",
       "      <td>0.000000</td>\n",
       "      <td>0.000000</td>\n",
       "      <td>0.000000</td>\n",
       "      <td>NaN</td>\n",
       "      <td>0.000000</td>\n",
       "      <td>NaN</td>\n",
       "      <td>0.000000</td>\n",
       "      <td>7.300000</td>\n",
       "    </tr>\n",
       "    <tr>\n",
       "      <th>50%</th>\n",
       "      <td>NaN</td>\n",
       "      <td>0.000000</td>\n",
       "      <td>1.000000</td>\n",
       "      <td>NaN</td>\n",
       "      <td>NaN</td>\n",
       "      <td>NaN</td>\n",
       "      <td>NaN</td>\n",
       "      <td>0.000000</td>\n",
       "      <td>NaN</td>\n",
       "      <td>0.000000</td>\n",
       "      <td>0.000000</td>\n",
       "      <td>0.000000</td>\n",
       "      <td>0.000000</td>\n",
       "      <td>NaN</td>\n",
       "      <td>0.000000</td>\n",
       "      <td>NaN</td>\n",
       "      <td>0.000000</td>\n",
       "      <td>8.950000</td>\n",
       "    </tr>\n",
       "    <tr>\n",
       "      <th>75%</th>\n",
       "      <td>NaN</td>\n",
       "      <td>1.000000</td>\n",
       "      <td>1.000000</td>\n",
       "      <td>NaN</td>\n",
       "      <td>NaN</td>\n",
       "      <td>NaN</td>\n",
       "      <td>NaN</td>\n",
       "      <td>0.000000</td>\n",
       "      <td>NaN</td>\n",
       "      <td>0.000000</td>\n",
       "      <td>0.000000</td>\n",
       "      <td>0.000000</td>\n",
       "      <td>0.000000</td>\n",
       "      <td>NaN</td>\n",
       "      <td>0.000000</td>\n",
       "      <td>NaN</td>\n",
       "      <td>0.000000</td>\n",
       "      <td>11.500000</td>\n",
       "    </tr>\n",
       "    <tr>\n",
       "      <th>max</th>\n",
       "      <td>NaN</td>\n",
       "      <td>4.000000</td>\n",
       "      <td>1000.000000</td>\n",
       "      <td>NaN</td>\n",
       "      <td>NaN</td>\n",
       "      <td>NaN</td>\n",
       "      <td>NaN</td>\n",
       "      <td>1.000000</td>\n",
       "      <td>NaN</td>\n",
       "      <td>4.000000</td>\n",
       "      <td>1.000000</td>\n",
       "      <td>2000.000000</td>\n",
       "      <td>1.000000</td>\n",
       "      <td>NaN</td>\n",
       "      <td>1.000000</td>\n",
       "      <td>NaN</td>\n",
       "      <td>1.000000</td>\n",
       "      <td>23.400000</td>\n",
       "    </tr>\n",
       "  </tbody>\n",
       "</table>\n",
       "</div>"
      ],
      "text/plain": [
       "         Hour  Immobilized_bus  Broken_Truck Vehicle_excess Accident_victim  \\\n",
       "count     140       140.000000    140.000000            140             140   \n",
       "unique     27              NaN           NaN              3               6   \n",
       "top     11:00              NaN           NaN              F             0.0   \n",
       "freq        6              NaN           NaN            128              91   \n",
       "mean      NaN         0.335714      8.007143            NaN             NaN   \n",
       "std       NaN         0.652728     84.448912            NaN             NaN   \n",
       "min       NaN         0.000000      0.000000            NaN             NaN   \n",
       "25%       NaN         0.000000      0.000000            NaN             NaN   \n",
       "50%       NaN         0.000000      1.000000            NaN             NaN   \n",
       "75%       NaN         1.000000      1.000000            NaN             NaN   \n",
       "max       NaN         4.000000   1000.000000            NaN             NaN   \n",
       "\n",
       "       Running_over Fire_vehicles  Occurrence_involving_freight  \\\n",
       "count           140           140                    140.000000   \n",
       "unique            5             3                           NaN   \n",
       "top             0.0            NO                           NaN   \n",
       "freq            124           138                           NaN   \n",
       "mean            NaN           NaN                      0.007143   \n",
       "std             NaN           NaN                      0.084515   \n",
       "min             NaN           NaN                      0.000000   \n",
       "25%             NaN           NaN                      0.000000   \n",
       "50%             NaN           NaN                      0.000000   \n",
       "75%             NaN           NaN                      0.000000   \n",
       "max             NaN           NaN                      1.000000   \n",
       "\n",
       "       Incident_involving_dangerous_freight  Lack_of_electricity        Fire  \\\n",
       "count                                   140           140.000000  140.000000   \n",
       "unique                                    3                  NaN         NaN   \n",
       "top                                     0.0                  NaN         NaN   \n",
       "freq                                    137                  NaN         NaN   \n",
       "mean                                    NaN             0.114286    0.007143   \n",
       "std                                     NaN             0.495820    0.084515   \n",
       "min                                     NaN             0.000000    0.000000   \n",
       "25%                                     NaN             0.000000    0.000000   \n",
       "50%                                     NaN             0.000000    0.000000   \n",
       "75%                                     NaN             0.000000    0.000000   \n",
       "max                                     NaN             4.000000    1.000000   \n",
       "\n",
       "        Point_of_flooding  Manifestations  \\\n",
       "count          140.000000      140.000000   \n",
       "unique                NaN             NaN   \n",
       "top                   NaN             NaN   \n",
       "freq                  NaN             NaN   \n",
       "mean            14.400000        0.035714   \n",
       "std            169.022573        0.221529   \n",
       "min              0.000000       -1.000000   \n",
       "25%              0.000000        0.000000   \n",
       "50%              0.000000        0.000000   \n",
       "75%              0.000000        0.000000   \n",
       "max           2000.000000        1.000000   \n",
       "\n",
       "       Defect_in_the_network_of_trolleybuses  Tree_on_the_road Semaphore_off  \\\n",
       "count                                    140        140.000000           140   \n",
       "unique                                     6               NaN             5   \n",
       "top                                      0.0               NaN           0.0   \n",
       "freq                                     118               NaN           125   \n",
       "mean                                     NaN          0.042857           NaN   \n",
       "std                                      NaN          0.203262           NaN   \n",
       "min                                      NaN          0.000000           NaN   \n",
       "25%                                      NaN          0.000000           NaN   \n",
       "50%                                      NaN          0.000000           NaN   \n",
       "75%                                      NaN          0.000000           NaN   \n",
       "max                                      NaN          1.000000           NaN   \n",
       "\n",
       "        Intermittent_Semaphore  Slowness_in_traffic_percent  \n",
       "count               140.000000                   140.000000  \n",
       "unique                     NaN                          NaN  \n",
       "top                        NaN                          NaN  \n",
       "freq                       NaN                          NaN  \n",
       "mean                  0.014286                     9.980714  \n",
       "std                   0.119092                     4.323583  \n",
       "min                   0.000000                     3.400000  \n",
       "25%                   0.000000                     7.300000  \n",
       "50%                   0.000000                     8.950000  \n",
       "75%                   0.000000                    11.500000  \n",
       "max                   1.000000                    23.400000  "
      ]
     },
     "execution_count": 6,
     "metadata": {},
     "output_type": "execute_result"
    }
   ],
   "source": [
    "data.describe(include = 'all')\n",
    "data_working = data.copy()\n",
    "data_working.describe(include = 'all')"
   ]
  },
  {
   "cell_type": "code",
   "execution_count": 7,
   "metadata": {},
   "outputs": [
    {
     "data": {
      "text/plain": [
       "['Accident_victim',\n",
       " 'Incident_involving_dangerous_freight',\n",
       " 'Defect_in_the_network_of_trolleybuses',\n",
       " 'Semaphore_off']"
      ]
     },
     "execution_count": 7,
     "metadata": {},
     "output_type": "execute_result"
    }
   ],
   "source": [
    "missing_data_columns = data_working.columns[data_working.eq(' ').any()].tolist()\n",
    "missing_data_columns"
   ]
  },
  {
   "cell_type": "markdown",
   "metadata": {},
   "source": [
    "As we have seen above, we have  ['Accident_victim', 'Incident_involving_dangerous_freight','Defect_in_the_network_of_trolleybuses', 'Semaphore_off'] having null values. Let us validate each column and find how to replace them.\n",
    "\n",
    "Accident_victim: It says about number of accidents happened which is a quantitative numerical attribute and which is discrete. As this can play an important role in the slowness of traffic, we are replacing this value with mean.\n",
    "\n",
    "Incident_involving_dangerous_freight: It says about the accidents involving dangerous freights which is again a quantitative attribute and which is discrete. According to the data we have seen less incidents, so we are replacing with mean\n",
    "\n",
    "Defect_in_the_network_of_trolleybuses: It says about number of incidents happened due to defect in the network of trolley buses which is again quantitative attribute and which is discrete. Hence we are using mean to replace the data\n",
    "\n",
    "Semaphore_off: It talks about the number of traffic signals not functioning, which is again quantitative attribute and which is discrete. Hence we are using mean to replace the data"
   ]
  },
  {
   "cell_type": "code",
   "execution_count": 8,
   "metadata": {},
   "outputs": [],
   "source": [
    "#Calculating mean of each column and replacing the emty values\n",
    "mean = float(np.mean(data_working['Accident_victim'].notnull()))\n",
    "data_working['Accident_victim'].replace(\" \", float(mean), inplace = True)\n",
    "data_working['Accident_victim'] = data_working['Accident_victim'].astype(float)\n",
    "mean = np.mean(data_working['Incident_involving_dangerous_freight'].notnull())\n",
    "data_working['Incident_involving_dangerous_freight'].replace(\" \", float(mean), inplace = True)\n",
    "data_working['Incident_involving_dangerous_freight'] = data_working['Incident_involving_dangerous_freight'].astype(float)\n",
    "mean = np.mean(data['Defect_in_the_network_of_trolleybuses'].notnull())\n",
    "data_working['Defect_in_the_network_of_trolleybuses'].replace(\" \", float(mean), inplace = True)\n",
    "data_working['Defect_in_the_network_of_trolleybuses'] = data_working['Defect_in_the_network_of_trolleybuses'].astype(float)\n",
    "mean = np.mean(data_working['Semaphore_off'].notnull())\n",
    "data_working['Semaphore_off'].replace(\" \", float(mean), inplace = True)\n",
    "data_working['Semaphore_off'] = data_working['Semaphore_off'].astype(float)"
   ]
  },
  {
   "cell_type": "code",
   "execution_count": 9,
   "metadata": {},
   "outputs": [
    {
     "name": "stdout",
     "output_type": "stream",
     "text": [
      "Hour ['7:00' '7:30' '8:00' '8:30' '9:00' '9:30' '10:00' '10:30' '11:00' '11:30'\n",
      " '12:00' '12:30' '13:00' '13:30' '14:00' '14:30' '15:00' '15:30' '16:00'\n",
      " '16:30' '17:00' '17:30' '18:00' '18:30' '19:00' '19:30' '20:00']\n",
      "Immobilized_bus [0. 2. 1. 4.]\n",
      "Broken_Truck [   0. 1000.    2.    1.    5.    4.    3.]\n",
      "Vehicle_excess [' T' ' F' ' f']\n",
      "Accident_victim [0. 1. 2. 3.]\n",
      "Running_over [' 0.0' ' NO' ' 1.0' ' 2.0' ' -1.0']\n",
      "Fire_vehicles [' NO' ' 0.0' ' YES']\n",
      "Occurrence_involving_freight [0. 1.]\n",
      "Incident_involving_dangerous_freight [0. 1.]\n",
      "Lack_of_electricity [0. 1. 2. 4. 3.]\n",
      "Fire [0. 1.]\n",
      "Point_of_flooding [0.e+00 2.e+03 1.e+00 3.e+00 7.e+00]\n",
      "Manifestations [ 0.  1. -1.]\n",
      "Defect_in_the_network_of_trolleybuses [ 0.  1.  3.  2. -8.]\n",
      "Tree_on_the_road [0. 1.]\n",
      "Semaphore_off [0. 1. 2. 4.]\n",
      "Intermittent_Semaphore [0. 1.]\n",
      "Slowness_in_traffic_percent [ 4.1  6.6  8.7  9.2 11.1 10.9  8.3  8.2  7.6  6.4  5.2  4.7  4.8  4.9\n",
      "  5.1  5.3  6.9  6.7  8.1  9.5  9.4  9.9 11.2 11.8 11.4  7.4  6.3  8.\n",
      " 10.3  7.9  7.7  8.5  7.8  8.4  9.3 11.  12.1 13.1 13.7 15.3 16.8 15.6\n",
      "  3.4  3.8  5.9  7.   6.2  6.5  6.8 10.1 12.2 13.9 15.  17.1 19.6 20.2\n",
      " 22.6 23.4 19.3  4.   5.   5.7  5.6 10.8 12.5 10.5 18.3 19.9 21.5 22.1\n",
      "  5.5  9.  12.3 11.9  9.7  8.9 11.3 13.  14.6 17.4 17.8 18.1 17.7]\n"
     ]
    }
   ],
   "source": [
    "#Changing all the values to Numerical values\n",
    "def getUniqueValuesOfEachColumn():\n",
    "    for col in data_working.columns:\n",
    "        print(col, data_working[col].unique())\n",
    "getUniqueValuesOfEachColumn()"
   ]
  },
  {
   "cell_type": "markdown",
   "metadata": {},
   "source": [
    "Here we observe that Vehicle_excess has T,F,f which are categorical values need to be converted. \n",
    "Running Over has NO, which needs to be converted. \n",
    "Fire vehicles needs to be converted.\n",
    "Let us try to convert all these values to numerical and see"
   ]
  },
  {
   "cell_type": "code",
   "execution_count": 10,
   "metadata": {},
   "outputs": [],
   "source": [
    "data_working['Vehicle_excess'] = data_working['Vehicle_excess'].astype(str).str.strip()\n",
    "data_working['Vehicle_excess'].replace('T', 1, inplace = True)\n",
    "data_working['Vehicle_excess'].replace('F', 0, inplace = True)\n",
    "data_working['Vehicle_excess'].replace('f', 0, inplace = True)"
   ]
  },
  {
   "cell_type": "code",
   "execution_count": 11,
   "metadata": {},
   "outputs": [],
   "source": [
    "data_working['Running_over'] = data_working['Running_over'].astype(str).str.strip()\n",
    "data_working['Running_over'].replace('NO', 0.0, inplace = True)"
   ]
  },
  {
   "cell_type": "code",
   "execution_count": 12,
   "metadata": {},
   "outputs": [],
   "source": [
    "data_working['Fire_vehicles'] = data_working['Fire_vehicles'].astype(str).str.strip()\n",
    "data_working['Fire_vehicles'].replace('NO', 0.0, inplace = True)\n",
    "data_working['Fire_vehicles'].replace('YES', 1.0, inplace = True)"
   ]
  },
  {
   "cell_type": "code",
   "execution_count": 13,
   "metadata": {},
   "outputs": [
    {
     "name": "stdout",
     "output_type": "stream",
     "text": [
      "Hour ['7:00' '7:30' '8:00' '8:30' '9:00' '9:30' '10:00' '10:30' '11:00' '11:30'\n",
      " '12:00' '12:30' '13:00' '13:30' '14:00' '14:30' '15:00' '15:30' '16:00'\n",
      " '16:30' '17:00' '17:30' '18:00' '18:30' '19:00' '19:30' '20:00']\n",
      "Immobilized_bus [0. 2. 1. 4.]\n",
      "Broken_Truck [   0. 1000.    2.    1.    5.    4.    3.]\n",
      "Vehicle_excess [1 0]\n",
      "Accident_victim [0. 1. 2. 3.]\n",
      "Running_over ['0.0' 0.0 '1.0' '2.0' '-1.0']\n",
      "Fire_vehicles [0.0 '0.0' 1.0]\n",
      "Occurrence_involving_freight [0. 1.]\n",
      "Incident_involving_dangerous_freight [0. 1.]\n",
      "Lack_of_electricity [0. 1. 2. 4. 3.]\n",
      "Fire [0. 1.]\n",
      "Point_of_flooding [0.e+00 2.e+03 1.e+00 3.e+00 7.e+00]\n",
      "Manifestations [ 0.  1. -1.]\n",
      "Defect_in_the_network_of_trolleybuses [ 0.  1.  3.  2. -8.]\n",
      "Tree_on_the_road [0. 1.]\n",
      "Semaphore_off [0. 1. 2. 4.]\n",
      "Intermittent_Semaphore [0. 1.]\n",
      "Slowness_in_traffic_percent [ 4.1  6.6  8.7  9.2 11.1 10.9  8.3  8.2  7.6  6.4  5.2  4.7  4.8  4.9\n",
      "  5.1  5.3  6.9  6.7  8.1  9.5  9.4  9.9 11.2 11.8 11.4  7.4  6.3  8.\n",
      " 10.3  7.9  7.7  8.5  7.8  8.4  9.3 11.  12.1 13.1 13.7 15.3 16.8 15.6\n",
      "  3.4  3.8  5.9  7.   6.2  6.5  6.8 10.1 12.2 13.9 15.  17.1 19.6 20.2\n",
      " 22.6 23.4 19.3  4.   5.   5.7  5.6 10.8 12.5 10.5 18.3 19.9 21.5 22.1\n",
      "  5.5  9.  12.3 11.9  9.7  8.9 11.3 13.  14.6 17.4 17.8 18.1 17.7]\n"
     ]
    }
   ],
   "source": [
    "getUniqueValuesOfEachColumn()"
   ]
  },
  {
   "cell_type": "markdown",
   "metadata": {},
   "source": [
    "We see all the categorical values are converted to numerical values, let us convert hour value to float now"
   ]
  },
  {
   "cell_type": "code",
   "execution_count": 14,
   "metadata": {},
   "outputs": [],
   "source": [
    "data_working['Hour']= data_working['Hour'].replace(':','.', regex=True).astype(\"float\")\n",
    "data_working['Running_over'] = data_working['Running_over'].astype('float')\n",
    "data_working['Fire_vehicles'] = data_working['Fire_vehicles'].astype('float')"
   ]
  },
  {
   "cell_type": "code",
   "execution_count": 15,
   "metadata": {},
   "outputs": [
    {
     "data": {
      "text/html": [
       "<div>\n",
       "<style scoped>\n",
       "    .dataframe tbody tr th:only-of-type {\n",
       "        vertical-align: middle;\n",
       "    }\n",
       "\n",
       "    .dataframe tbody tr th {\n",
       "        vertical-align: top;\n",
       "    }\n",
       "\n",
       "    .dataframe thead th {\n",
       "        text-align: right;\n",
       "    }\n",
       "</style>\n",
       "<table border=\"1\" class=\"dataframe\">\n",
       "  <thead>\n",
       "    <tr style=\"text-align: right;\">\n",
       "      <th></th>\n",
       "      <th>Hour</th>\n",
       "      <th>Immobilized_bus</th>\n",
       "      <th>Broken_Truck</th>\n",
       "      <th>Vehicle_excess</th>\n",
       "      <th>Accident_victim</th>\n",
       "      <th>Running_over</th>\n",
       "      <th>Fire_vehicles</th>\n",
       "      <th>Occurrence_involving_freight</th>\n",
       "      <th>Incident_involving_dangerous_freight</th>\n",
       "      <th>Lack_of_electricity</th>\n",
       "      <th>Fire</th>\n",
       "      <th>Point_of_flooding</th>\n",
       "      <th>Manifestations</th>\n",
       "      <th>Defect_in_the_network_of_trolleybuses</th>\n",
       "      <th>Tree_on_the_road</th>\n",
       "      <th>Semaphore_off</th>\n",
       "      <th>Intermittent_Semaphore</th>\n",
       "      <th>Slowness_in_traffic_percent</th>\n",
       "    </tr>\n",
       "  </thead>\n",
       "  <tbody>\n",
       "    <tr>\n",
       "      <th>125</th>\n",
       "      <td>13.3</td>\n",
       "      <td>0.0</td>\n",
       "      <td>1.0</td>\n",
       "      <td>0</td>\n",
       "      <td>0.0</td>\n",
       "      <td>0.0</td>\n",
       "      <td>0.0</td>\n",
       "      <td>0.0</td>\n",
       "      <td>1.0</td>\n",
       "      <td>0.0</td>\n",
       "      <td>0.0</td>\n",
       "      <td>0.0</td>\n",
       "      <td>0.0</td>\n",
       "      <td>1.0</td>\n",
       "      <td>0.0</td>\n",
       "      <td>0.0</td>\n",
       "      <td>0.0</td>\n",
       "      <td>9.7</td>\n",
       "    </tr>\n",
       "    <tr>\n",
       "      <th>126</th>\n",
       "      <td>14.0</td>\n",
       "      <td>1.0</td>\n",
       "      <td>2.0</td>\n",
       "      <td>0</td>\n",
       "      <td>1.0</td>\n",
       "      <td>0.0</td>\n",
       "      <td>0.0</td>\n",
       "      <td>0.0</td>\n",
       "      <td>0.0</td>\n",
       "      <td>0.0</td>\n",
       "      <td>0.0</td>\n",
       "      <td>0.0</td>\n",
       "      <td>0.0</td>\n",
       "      <td>1.0</td>\n",
       "      <td>0.0</td>\n",
       "      <td>1.0</td>\n",
       "      <td>0.0</td>\n",
       "      <td>10.3</td>\n",
       "    </tr>\n",
       "    <tr>\n",
       "      <th>127</th>\n",
       "      <td>14.3</td>\n",
       "      <td>0.0</td>\n",
       "      <td>0.0</td>\n",
       "      <td>0</td>\n",
       "      <td>1.0</td>\n",
       "      <td>0.0</td>\n",
       "      <td>0.0</td>\n",
       "      <td>0.0</td>\n",
       "      <td>0.0</td>\n",
       "      <td>1.0</td>\n",
       "      <td>0.0</td>\n",
       "      <td>0.0</td>\n",
       "      <td>0.0</td>\n",
       "      <td>0.0</td>\n",
       "      <td>0.0</td>\n",
       "      <td>0.0</td>\n",
       "      <td>0.0</td>\n",
       "      <td>10.9</td>\n",
       "    </tr>\n",
       "    <tr>\n",
       "      <th>128</th>\n",
       "      <td>15.0</td>\n",
       "      <td>0.0</td>\n",
       "      <td>1.0</td>\n",
       "      <td>0</td>\n",
       "      <td>1.0</td>\n",
       "      <td>0.0</td>\n",
       "      <td>0.0</td>\n",
       "      <td>0.0</td>\n",
       "      <td>0.0</td>\n",
       "      <td>0.0</td>\n",
       "      <td>0.0</td>\n",
       "      <td>0.0</td>\n",
       "      <td>0.0</td>\n",
       "      <td>0.0</td>\n",
       "      <td>0.0</td>\n",
       "      <td>0.0</td>\n",
       "      <td>0.0</td>\n",
       "      <td>8.9</td>\n",
       "    </tr>\n",
       "    <tr>\n",
       "      <th>129</th>\n",
       "      <td>15.3</td>\n",
       "      <td>2.0</td>\n",
       "      <td>0.0</td>\n",
       "      <td>0</td>\n",
       "      <td>1.0</td>\n",
       "      <td>-1.0</td>\n",
       "      <td>0.0</td>\n",
       "      <td>0.0</td>\n",
       "      <td>1.0</td>\n",
       "      <td>0.0</td>\n",
       "      <td>0.0</td>\n",
       "      <td>0.0</td>\n",
       "      <td>0.0</td>\n",
       "      <td>0.0</td>\n",
       "      <td>0.0</td>\n",
       "      <td>0.0</td>\n",
       "      <td>0.0</td>\n",
       "      <td>9.4</td>\n",
       "    </tr>\n",
       "    <tr>\n",
       "      <th>130</th>\n",
       "      <td>16.0</td>\n",
       "      <td>0.0</td>\n",
       "      <td>0.0</td>\n",
       "      <td>0</td>\n",
       "      <td>1.0</td>\n",
       "      <td>0.0</td>\n",
       "      <td>0.0</td>\n",
       "      <td>0.0</td>\n",
       "      <td>0.0</td>\n",
       "      <td>0.0</td>\n",
       "      <td>0.0</td>\n",
       "      <td>0.0</td>\n",
       "      <td>0.0</td>\n",
       "      <td>0.0</td>\n",
       "      <td>0.0</td>\n",
       "      <td>1.0</td>\n",
       "      <td>0.0</td>\n",
       "      <td>11.3</td>\n",
       "    </tr>\n",
       "    <tr>\n",
       "      <th>131</th>\n",
       "      <td>16.0</td>\n",
       "      <td>0.0</td>\n",
       "      <td>0.0</td>\n",
       "      <td>0</td>\n",
       "      <td>1.0</td>\n",
       "      <td>0.0</td>\n",
       "      <td>0.0</td>\n",
       "      <td>0.0</td>\n",
       "      <td>0.0</td>\n",
       "      <td>0.0</td>\n",
       "      <td>0.0</td>\n",
       "      <td>0.0</td>\n",
       "      <td>0.0</td>\n",
       "      <td>0.0</td>\n",
       "      <td>0.0</td>\n",
       "      <td>1.0</td>\n",
       "      <td>0.0</td>\n",
       "      <td>11.3</td>\n",
       "    </tr>\n",
       "    <tr>\n",
       "      <th>132</th>\n",
       "      <td>16.3</td>\n",
       "      <td>0.0</td>\n",
       "      <td>0.0</td>\n",
       "      <td>1</td>\n",
       "      <td>2.0</td>\n",
       "      <td>0.0</td>\n",
       "      <td>0.0</td>\n",
       "      <td>0.0</td>\n",
       "      <td>0.0</td>\n",
       "      <td>0.0</td>\n",
       "      <td>0.0</td>\n",
       "      <td>0.0</td>\n",
       "      <td>0.0</td>\n",
       "      <td>0.0</td>\n",
       "      <td>0.0</td>\n",
       "      <td>0.0</td>\n",
       "      <td>0.0</td>\n",
       "      <td>13.0</td>\n",
       "    </tr>\n",
       "    <tr>\n",
       "      <th>133</th>\n",
       "      <td>17.0</td>\n",
       "      <td>0.0</td>\n",
       "      <td>0.0</td>\n",
       "      <td>0</td>\n",
       "      <td>0.0</td>\n",
       "      <td>0.0</td>\n",
       "      <td>0.0</td>\n",
       "      <td>0.0</td>\n",
       "      <td>0.0</td>\n",
       "      <td>0.0</td>\n",
       "      <td>0.0</td>\n",
       "      <td>0.0</td>\n",
       "      <td>0.0</td>\n",
       "      <td>0.0</td>\n",
       "      <td>0.0</td>\n",
       "      <td>0.0</td>\n",
       "      <td>0.0</td>\n",
       "      <td>14.6</td>\n",
       "    </tr>\n",
       "    <tr>\n",
       "      <th>134</th>\n",
       "      <td>17.3</td>\n",
       "      <td>0.0</td>\n",
       "      <td>1.0</td>\n",
       "      <td>0</td>\n",
       "      <td>1.0</td>\n",
       "      <td>0.0</td>\n",
       "      <td>0.0</td>\n",
       "      <td>0.0</td>\n",
       "      <td>0.0</td>\n",
       "      <td>0.0</td>\n",
       "      <td>0.0</td>\n",
       "      <td>0.0</td>\n",
       "      <td>0.0</td>\n",
       "      <td>0.0</td>\n",
       "      <td>0.0</td>\n",
       "      <td>1.0</td>\n",
       "      <td>0.0</td>\n",
       "      <td>17.4</td>\n",
       "    </tr>\n",
       "    <tr>\n",
       "      <th>135</th>\n",
       "      <td>18.0</td>\n",
       "      <td>1.0</td>\n",
       "      <td>0.0</td>\n",
       "      <td>0</td>\n",
       "      <td>0.0</td>\n",
       "      <td>1.0</td>\n",
       "      <td>0.0</td>\n",
       "      <td>0.0</td>\n",
       "      <td>0.0</td>\n",
       "      <td>0.0</td>\n",
       "      <td>0.0</td>\n",
       "      <td>0.0</td>\n",
       "      <td>0.0</td>\n",
       "      <td>1.0</td>\n",
       "      <td>0.0</td>\n",
       "      <td>0.0</td>\n",
       "      <td>0.0</td>\n",
       "      <td>17.8</td>\n",
       "    </tr>\n",
       "    <tr>\n",
       "      <th>136</th>\n",
       "      <td>18.3</td>\n",
       "      <td>0.0</td>\n",
       "      <td>0.0</td>\n",
       "      <td>0</td>\n",
       "      <td>2.0</td>\n",
       "      <td>0.0</td>\n",
       "      <td>0.0</td>\n",
       "      <td>0.0</td>\n",
       "      <td>0.0</td>\n",
       "      <td>0.0</td>\n",
       "      <td>0.0</td>\n",
       "      <td>0.0</td>\n",
       "      <td>0.0</td>\n",
       "      <td>1.0</td>\n",
       "      <td>0.0</td>\n",
       "      <td>0.0</td>\n",
       "      <td>0.0</td>\n",
       "      <td>18.1</td>\n",
       "    </tr>\n",
       "    <tr>\n",
       "      <th>137</th>\n",
       "      <td>19.0</td>\n",
       "      <td>1.0</td>\n",
       "      <td>0.0</td>\n",
       "      <td>0</td>\n",
       "      <td>2.0</td>\n",
       "      <td>0.0</td>\n",
       "      <td>0.0</td>\n",
       "      <td>0.0</td>\n",
       "      <td>0.0</td>\n",
       "      <td>0.0</td>\n",
       "      <td>0.0</td>\n",
       "      <td>0.0</td>\n",
       "      <td>0.0</td>\n",
       "      <td>0.0</td>\n",
       "      <td>0.0</td>\n",
       "      <td>1.0</td>\n",
       "      <td>0.0</td>\n",
       "      <td>17.7</td>\n",
       "    </tr>\n",
       "    <tr>\n",
       "      <th>138</th>\n",
       "      <td>19.3</td>\n",
       "      <td>0.0</td>\n",
       "      <td>4.0</td>\n",
       "      <td>0</td>\n",
       "      <td>1.0</td>\n",
       "      <td>0.0</td>\n",
       "      <td>0.0</td>\n",
       "      <td>0.0</td>\n",
       "      <td>0.0</td>\n",
       "      <td>0.0</td>\n",
       "      <td>0.0</td>\n",
       "      <td>0.0</td>\n",
       "      <td>1.0</td>\n",
       "      <td>0.0</td>\n",
       "      <td>0.0</td>\n",
       "      <td>1.0</td>\n",
       "      <td>0.0</td>\n",
       "      <td>17.4</td>\n",
       "    </tr>\n",
       "    <tr>\n",
       "      <th>139</th>\n",
       "      <td>20.0</td>\n",
       "      <td>0.0</td>\n",
       "      <td>0.0</td>\n",
       "      <td>0</td>\n",
       "      <td>0.0</td>\n",
       "      <td>0.0</td>\n",
       "      <td>0.0</td>\n",
       "      <td>0.0</td>\n",
       "      <td>0.0</td>\n",
       "      <td>0.0</td>\n",
       "      <td>0.0</td>\n",
       "      <td>0.0</td>\n",
       "      <td>0.0</td>\n",
       "      <td>0.0</td>\n",
       "      <td>0.0</td>\n",
       "      <td>0.0</td>\n",
       "      <td>0.0</td>\n",
       "      <td>12.1</td>\n",
       "    </tr>\n",
       "  </tbody>\n",
       "</table>\n",
       "</div>"
      ],
      "text/plain": [
       "     Hour  Immobilized_bus  Broken_Truck  Vehicle_excess  Accident_victim  \\\n",
       "125  13.3              0.0           1.0               0              0.0   \n",
       "126  14.0              1.0           2.0               0              1.0   \n",
       "127  14.3              0.0           0.0               0              1.0   \n",
       "128  15.0              0.0           1.0               0              1.0   \n",
       "129  15.3              2.0           0.0               0              1.0   \n",
       "130  16.0              0.0           0.0               0              1.0   \n",
       "131  16.0              0.0           0.0               0              1.0   \n",
       "132  16.3              0.0           0.0               1              2.0   \n",
       "133  17.0              0.0           0.0               0              0.0   \n",
       "134  17.3              0.0           1.0               0              1.0   \n",
       "135  18.0              1.0           0.0               0              0.0   \n",
       "136  18.3              0.0           0.0               0              2.0   \n",
       "137  19.0              1.0           0.0               0              2.0   \n",
       "138  19.3              0.0           4.0               0              1.0   \n",
       "139  20.0              0.0           0.0               0              0.0   \n",
       "\n",
       "     Running_over  Fire_vehicles  Occurrence_involving_freight  \\\n",
       "125           0.0            0.0                           0.0   \n",
       "126           0.0            0.0                           0.0   \n",
       "127           0.0            0.0                           0.0   \n",
       "128           0.0            0.0                           0.0   \n",
       "129          -1.0            0.0                           0.0   \n",
       "130           0.0            0.0                           0.0   \n",
       "131           0.0            0.0                           0.0   \n",
       "132           0.0            0.0                           0.0   \n",
       "133           0.0            0.0                           0.0   \n",
       "134           0.0            0.0                           0.0   \n",
       "135           1.0            0.0                           0.0   \n",
       "136           0.0            0.0                           0.0   \n",
       "137           0.0            0.0                           0.0   \n",
       "138           0.0            0.0                           0.0   \n",
       "139           0.0            0.0                           0.0   \n",
       "\n",
       "     Incident_involving_dangerous_freight  Lack_of_electricity  Fire  \\\n",
       "125                                   1.0                  0.0   0.0   \n",
       "126                                   0.0                  0.0   0.0   \n",
       "127                                   0.0                  1.0   0.0   \n",
       "128                                   0.0                  0.0   0.0   \n",
       "129                                   1.0                  0.0   0.0   \n",
       "130                                   0.0                  0.0   0.0   \n",
       "131                                   0.0                  0.0   0.0   \n",
       "132                                   0.0                  0.0   0.0   \n",
       "133                                   0.0                  0.0   0.0   \n",
       "134                                   0.0                  0.0   0.0   \n",
       "135                                   0.0                  0.0   0.0   \n",
       "136                                   0.0                  0.0   0.0   \n",
       "137                                   0.0                  0.0   0.0   \n",
       "138                                   0.0                  0.0   0.0   \n",
       "139                                   0.0                  0.0   0.0   \n",
       "\n",
       "     Point_of_flooding  Manifestations  Defect_in_the_network_of_trolleybuses  \\\n",
       "125                0.0             0.0                                    1.0   \n",
       "126                0.0             0.0                                    1.0   \n",
       "127                0.0             0.0                                    0.0   \n",
       "128                0.0             0.0                                    0.0   \n",
       "129                0.0             0.0                                    0.0   \n",
       "130                0.0             0.0                                    0.0   \n",
       "131                0.0             0.0                                    0.0   \n",
       "132                0.0             0.0                                    0.0   \n",
       "133                0.0             0.0                                    0.0   \n",
       "134                0.0             0.0                                    0.0   \n",
       "135                0.0             0.0                                    1.0   \n",
       "136                0.0             0.0                                    1.0   \n",
       "137                0.0             0.0                                    0.0   \n",
       "138                0.0             1.0                                    0.0   \n",
       "139                0.0             0.0                                    0.0   \n",
       "\n",
       "     Tree_on_the_road  Semaphore_off  Intermittent_Semaphore  \\\n",
       "125               0.0            0.0                     0.0   \n",
       "126               0.0            1.0                     0.0   \n",
       "127               0.0            0.0                     0.0   \n",
       "128               0.0            0.0                     0.0   \n",
       "129               0.0            0.0                     0.0   \n",
       "130               0.0            1.0                     0.0   \n",
       "131               0.0            1.0                     0.0   \n",
       "132               0.0            0.0                     0.0   \n",
       "133               0.0            0.0                     0.0   \n",
       "134               0.0            1.0                     0.0   \n",
       "135               0.0            0.0                     0.0   \n",
       "136               0.0            0.0                     0.0   \n",
       "137               0.0            1.0                     0.0   \n",
       "138               0.0            1.0                     0.0   \n",
       "139               0.0            0.0                     0.0   \n",
       "\n",
       "     Slowness_in_traffic_percent  \n",
       "125                          9.7  \n",
       "126                         10.3  \n",
       "127                         10.9  \n",
       "128                          8.9  \n",
       "129                          9.4  \n",
       "130                         11.3  \n",
       "131                         11.3  \n",
       "132                         13.0  \n",
       "133                         14.6  \n",
       "134                         17.4  \n",
       "135                         17.8  \n",
       "136                         18.1  \n",
       "137                         17.7  \n",
       "138                         17.4  \n",
       "139                         12.1  "
      ]
     },
     "execution_count": 15,
     "metadata": {},
     "output_type": "execute_result"
    }
   ],
   "source": [
    "data_working.tail(15)"
   ]
  },
  {
   "cell_type": "code",
   "execution_count": 16,
   "metadata": {},
   "outputs": [
    {
     "data": {
      "text/plain": [
       "<matplotlib.axes._subplots.AxesSubplot at 0x2af2701d240>"
      ]
     },
     "execution_count": 16,
     "metadata": {},
     "output_type": "execute_result"
    },
    {
     "data": {
      "image/png": "[encoded data removed]",
      "text/plain": [
       "<Figure size 432x288 with 1 Axes>"
      ]
     },
     "metadata": {
      "needs_background": "light"
     },
     "output_type": "display_data"
    }
   ],
   "source": [
    "#Find outliers\n",
    "import seaborn as sns\n",
    "sns.boxplot(x = 'Broken_Truck', y = 'Slowness_in_traffic_percent', data = data_working)"
   ]
  },
  {
   "cell_type": "code",
   "execution_count": 17,
   "metadata": {},
   "outputs": [
    {
     "data": {
      "image/png": "[encoded data removed]",
      "text/plain": [
       "<Figure size 864x864 with 18 Axes>"
      ]
     },
     "metadata": {
      "needs_background": "light"
     },
     "output_type": "display_data"
    }
   ],
   "source": [
    "fig, axes = plt.subplots(nrows=6, ncols=3, figsize = (12,12))\n",
    "data_working.plot(subplots=True, ax=axes.flatten()[:18])\n",
    "\n",
    "#plt.set_tight_layout(True)\n",
    "plt.tight_layout(pad=0.4, w_pad=0.5, h_pad=10.0)\n",
    "plt.show()"
   ]
  },
  {
   "cell_type": "markdown",
   "metadata": {},
   "source": [
    "From the above graphs, we are able to observe Broken_Truck, Point_of_Flooding has clear outliers."
   ]
  },
  {
   "cell_type": "markdown",
   "metadata": {},
   "source": [
    "Applying Z score to eliminate outliers\n",
    "z = (x - mean(x))/SD"
   ]
  },
  {
   "cell_type": "code",
   "execution_count": 18,
   "metadata": {},
   "outputs": [],
   "source": [
    "#Handling outliers\n",
    "data_working_out = data_working[(np.abs(stats.zscore(data_working)) < 3).all(axis=1)]"
   ]
  },
  {
   "cell_type": "markdown",
   "metadata": {},
   "source": [
    "1. For each column, first it computes the Z-score of each value in the column, relative to the column mean and standard deviation.\n",
    "2. Then is takes the absolute of Z-score because the direction does not matter, only if it is below the threshold.\n",
    "3. all(axis=1) ensures that for each row, all column satisfy the constraint.\n",
    "4. Finally, result of this condition is used to index the dataframe."
   ]
  },
  {
   "cell_type": "markdown",
   "metadata": {},
   "source": [
    "Normality Testing:\n",
    "Skewness is a measure of the asymmetry of the probability distribution of a random variable about its mean.\n",
    "In other words, skewness tells you the amount and direction of skew (departure from horizontal symmetry). \n",
    "The skewness value can be positive or negative, or even undefined. \n",
    "If skewness is 0, the data are perfectly symmetrical, although it is quite unlikely for real-world data. \n",
    "As a general rule of thumb:\n",
    "If skewness is less than -1 or greater than 1, the distribution is highly skewed.\n",
    "If skewness is between -1 and -0.5 or between 0.5 and 1, the distribution is moderately skewed.\n",
    "If skewness is between -0.5 and 0.5, the distribution is approximately symmetric."
   ]
  },
  {
   "cell_type": "code",
   "execution_count": 19,
   "metadata": {},
   "outputs": [
    {
     "name": "stdout",
     "output_type": "stream",
     "text": [
      "Hour                                    -0.014872\n",
      "Immobilized_bus                          1.883690\n",
      "Broken_Truck                             1.579209\n",
      "Vehicle_excess                           0.000000\n",
      "Accident_victim                          1.242526\n",
      "Running_over                             2.797894\n",
      "Fire_vehicles                            0.000000\n",
      "Occurrence_involving_freight             0.000000\n",
      "Incident_involving_dangerous_freight     0.000000\n",
      "Lack_of_electricity                      3.871362\n",
      "Fire                                     0.000000\n",
      "Point_of_flooding                        9.696256\n",
      "Manifestations                           0.000000\n",
      "Defect_in_the_network_of_trolleybuses    2.758370\n",
      "Tree_on_the_road                         0.000000\n",
      "Semaphore_off                            3.002870\n",
      "Intermittent_Semaphore                   0.000000\n",
      "Slowness_in_traffic_percent              1.012805\n",
      "dtype: float64\n"
     ]
    }
   ],
   "source": [
    "print(data_working_out.skew())"
   ]
  },
  {
   "cell_type": "code",
   "execution_count": 20,
   "metadata": {},
   "outputs": [],
   "source": [
    "#Handling negative values\n",
    "data_working[data_working < 0] = 0"
   ]
  },
  {
   "cell_type": "markdown",
   "metadata": {},
   "source": [
    "Univariate Analysis"
   ]
  },
  {
   "cell_type": "code",
   "execution_count": 21,
   "metadata": {},
   "outputs": [],
   "source": [
    "# Set the color coding for the visualizations to be plotted\n",
    "from matplotlib import cm\n",
    "cmap = cm.get_cmap('jet')\n",
    "cmap1 = cm.get_cmap('Spectral')"
   ]
  },
  {
   "cell_type": "code",
   "execution_count": 87,
   "metadata": {},
   "outputs": [
    {
     "data": {
      "image/png": "[encoded data removed]",
      "text/plain": [
       "<Figure size 1440x720 with 4 Axes>"
      ]
     },
     "metadata": {},
     "output_type": "display_data"
    },
    {
     "data": {
      "image/png": "[encoded data removed]",
      "text/plain": [
       "<Figure size 432x288 with 1 Axes>"
      ]
     },
     "metadata": {},
     "output_type": "display_data"
    },
    {
     "data": {
      "image/png": "[encoded data removed]",
      "text/plain": [
       "<Figure size 432x288 with 1 Axes>"
      ]
     },
     "metadata": {},
     "output_type": "display_data"
    },
    {
     "data": {
      "image/png": "[encoded data removed]",
      "text/plain": [
       "<Figure size 432x288 with 1 Axes>"
      ]
     },
     "metadata": {},
     "output_type": "display_data"
    },
    {
     "data": {
      "image/png": "[encoded data removed]",
      "text/plain": [
       "<Figure size 432x288 with 1 Axes>"
      ]
     },
     "metadata": {},
     "output_type": "display_data"
    },
    {
     "data": {
      "image/png": "[encoded data removed]",
      "text/plain": [
       "<Figure size 432x288 with 1 Axes>"
      ]
     },
     "metadata": {},
     "output_type": "display_data"
    },
    {
     "data": {
      "image/png": "[encoded data removed]",
      "text/plain": [
       "<Figure size 432x288 with 1 Axes>"
      ]
     },
     "metadata": {},
     "output_type": "display_data"
    },
    {
     "data": {
      "image/png": "[encoded data removed]",
      "text/plain": [
       "<Figure size 432x288 with 1 Axes>"
      ]
     },
     "metadata": {},
     "output_type": "display_data"
    },
    {
     "data": {
      "image/png": "[encoded data removed]",
      "text/plain": [
       "<Figure size 432x288 with 1 Axes>"
      ]
     },
     "metadata": {},
     "output_type": "display_data"
    },
    {
     "data": {
      "image/png": "[encoded data removed]",
      "text/plain": [
       "<Figure size 432x288 with 1 Axes>"
      ]
     },
     "metadata": {},
     "output_type": "display_data"
    },
    {
     "data": {
      "image/png": "[encoded data removed]",
      "text/plain": [
       "<Figure size 432x288 with 1 Axes>"
      ]
     },
     "metadata": {},
     "output_type": "display_data"
    },
    {
     "data": {
      "image/png": "[encoded data removed]",
      "text/plain": [
       "<Figure size 432x288 with 1 Axes>"
      ]
     },
     "metadata": {},
     "output_type": "display_data"
    },
    {
     "data": {
      "image/png": "[encoded data removed]",
      "text/plain": [
       "<Figure size 432x288 with 1 Axes>"
      ]
     },
     "metadata": {},
     "output_type": "display_data"
    }
   ],
   "source": [
    "#Prepare a 2 by 2 layout two render these categorical attributes\n",
    "plt.figure(1) \n",
    "\n",
    "plt.subplot(221) \n",
    "data_working_out['Hour'].value_counts(normalize=True).plot.barh(figsize=(20,10), cmap=cmap, title= 'Hour') \n",
    "\n",
    "plt.subplot(222) \n",
    "data_working_out['Immobilized_bus'].value_counts(normalize=True).plot.barh(title= 'Immobilized_bus', cmap=cmap1) \n",
    "\n",
    "plt.subplot(223) \n",
    "data_working_out['Broken_Truck'].value_counts(normalize=True).plot.barh(title= 'Broken_Truck', cmap=cmap1) \n",
    "\n",
    "plt.subplot(224) \n",
    "data_working_out['Vehicle_excess'].value_counts(normalize=True).plot.barh(title= 'Vehicle_excess', cmap=cmap) \n",
    "plt.show()\n",
    "\n",
    "plt.subplot(224) \n",
    "data_working_out['Accident_victim'].value_counts(normalize=True).plot.barh(title= 'Accident_victim', cmap=cmap) \n",
    "plt.show()\n",
    "\n",
    "plt.subplot(224) \n",
    "data_working_out['Running_over'].value_counts(normalize=True).plot.barh(title= 'Running_over', cmap=cmap) \n",
    "plt.show()\n",
    "\n",
    "plt.subplot(224) \n",
    "data_working_out['Fire_vehicles'].value_counts(normalize=True).plot.barh(title= 'Fire_vehicles', cmap=cmap) \n",
    "plt.show()\n",
    "\n",
    "plt.subplot(224) \n",
    "data_working_out['Occurrence_involving_freight'].value_counts(normalize=True).plot.barh(title= 'Occurrence_involving_freight', cmap=cmap) \n",
    "plt.show()\n",
    "\n",
    "plt.subplot(224) \n",
    "data_working_out['Incident_involving_dangerous_freight'].value_counts(normalize=True).plot.barh(title= 'Incident_involving_dangerous_freight', cmap=cmap) \n",
    "plt.show()\n",
    "\n",
    "plt.subplot(224) \n",
    "data_working_out['Lack_of_electricity'].value_counts(normalize=True).plot.barh(title= 'Lack_of_electricity', cmap=cmap) \n",
    "plt.show()\n",
    "\n",
    "plt.subplot(224) \n",
    "data_working_out['Fire'].value_counts(normalize=True).plot.barh(title= 'Fire', cmap=cmap) \n",
    "plt.show()\n",
    "\n",
    "plt.subplot(224) \n",
    "data_working_out['Point_of_flooding'].value_counts(normalize=True).plot.barh(title= 'Point_of_flooding', cmap=cmap) \n",
    "plt.show()\n",
    "\n",
    "plt.subplot(224) \n",
    "data_working_out['Manifestations'].value_counts(normalize=True).plot.barh(title= 'Manifestations', cmap=cmap) \n",
    "plt.show()\n",
    "\n",
    "plt.subplot(224) \n",
    "data_working_out['Defect_in_the_network_of_trolleybuses'].value_counts(normalize=True).plot.barh(title= 'Defect_in_the_network_of_trolleybuses', cmap=cmap) \n",
    "plt.show()\n",
    "\n",
    "plt.subplot(224) \n",
    "data_working_out['Tree_on_the_road'].value_counts(normalize=True).plot.barh(title= 'Tree_on_the_road', cmap=cmap) \n",
    "plt.show()\n",
    "\n",
    "plt.subplot(224) \n",
    "data_working_out['Semaphore_off'].value_counts(normalize=True).plot.barh(title= 'Semaphore_off', cmap=cmap) \n",
    "plt.show()"
   ]
  },
  {
   "cell_type": "code",
   "execution_count": 23,
   "metadata": {},
   "outputs": [
    {
     "data": {
      "image/png": "[encoded data removed]",
      "text/plain": [
       "<Figure size 1152x360 with 2 Axes>"
      ]
     },
     "metadata": {
      "needs_background": "light"
     },
     "output_type": "display_data"
    },
    {
     "data": {
      "image/png": "[encoded data removed]",
      "text/plain": [
       "<Figure size 1152x360 with 2 Axes>"
      ]
     },
     "metadata": {
      "needs_background": "light"
     },
     "output_type": "display_data"
    },
    {
     "data": {
      "image/png": "[encoded data removed]",
      "text/plain": [
       "<Figure size 1152x360 with 2 Axes>"
      ]
     },
     "metadata": {
      "needs_background": "light"
     },
     "output_type": "display_data"
    },
    {
     "data": {
      "image/png": "[encoded data removed]",
      "text/plain": [
       "<Figure size 1152x360 with 2 Axes>"
      ]
     },
     "metadata": {
      "needs_background": "light"
     },
     "output_type": "display_data"
    },
    {
     "data": {
      "image/png": "[encoded data removed]",
      "text/plain": [
       "<Figure size 1152x360 with 2 Axes>"
      ]
     },
     "metadata": {
      "needs_background": "light"
     },
     "output_type": "display_data"
    }
   ],
   "source": [
    "#Prepare a layout to render these numerical attributes\n",
    "plt.figure(1) \n",
    "plt.subplot(121) \n",
    "sns.distplot(data_working_out['Lack_of_electricity'], hist=True, kde=False); \n",
    "\n",
    "plt.subplot(122) \n",
    "data_working_out['Lack_of_electricity'].plot.box(figsize=(16,5)) \n",
    "plt.show()\n",
    "\n",
    "plt.figure(1) \n",
    "plt.subplot(121) \n",
    "sns.distplot(data_working_out['Semaphore_off'], hist=True, kde=False); \n",
    "\n",
    "plt.subplot(122) \n",
    "data_working_out['Semaphore_off'].plot.box(figsize=(16,5)) \n",
    "plt.show()\n",
    "\n",
    "plt.figure(1) \n",
    "plt.subplot(121) \n",
    "sns.distplot(data_working_out['Fire_vehicles'], hist=True, kde=False); \n",
    "\n",
    "plt.subplot(122) \n",
    "data_working_out['Fire_vehicles'].plot.box(figsize=(16,5)) \n",
    "plt.show()\n",
    "\n",
    "plt.figure(1) \n",
    "plt.subplot(121) \n",
    "sns.distplot(data_working_out['Running_over'], hist=True, kde=False); \n",
    "\n",
    "plt.subplot(122) \n",
    "data_working_out['Running_over'].plot.box(figsize=(16,5)) \n",
    "plt.show()\n",
    "\n",
    "plt.figure(1) \n",
    "plt.subplot(121) \n",
    "sns.distplot(data_working_out['Immobilized_bus'], hist=True, kde=False); \n",
    "\n",
    "plt.subplot(122) \n",
    "data_working_out['Immobilized_bus'].plot.box(figsize=(16,5)) \n",
    "plt.show()\n",
    "\n",
    "plt.figure(1) \n",
    "plt.subplot(121) \n",
    "sns.distplot(data_working_out['Immobilized_bus'], hist=True, kde=False); \n",
    "\n",
    "plt.subplot(122) \n",
    "data_working_out['Immobilized_bus'].plot.box(figsize=(16,5)) \n",
    "plt.show()"
   ]
  },
  {
   "cell_type": "markdown",
   "metadata": {},
   "source": [
    "Bivariate Analysis"
   ]
  },
  {
   "cell_type": "code",
   "execution_count": 24,
   "metadata": {},
   "outputs": [],
   "source": [
    "#Set the visuzalization style\n",
    "from matplotlib import cm\n",
    "cmap = cm.get_cmap('Spectral')"
   ]
  },
  {
   "cell_type": "markdown",
   "metadata": {},
   "source": [
    "Now lets look at the correlation between all the numerical variables. We will use the heat map to visualize the correlation. Heatmaps visualize data through variations in coloring. \n",
    "The variables with darker color means their correlation is more."
   ]
  },
  {
   "cell_type": "code",
   "execution_count": 25,
   "metadata": {},
   "outputs": [
    {
     "data": {
      "image/png": "[encoded data removed]",
      "text/plain": [
       "<Figure size 648x432 with 2 Axes>"
      ]
     },
     "metadata": {
      "needs_background": "light"
     },
     "output_type": "display_data"
    }
   ],
   "source": [
    "matrix = data_working_out.corr() \n",
    "f, ax = plt.subplots(figsize=(9, 6)) \n",
    "sns.heatmap(matrix, vmax=.8, square=True, cmap=\"OrRd\");"
   ]
  },
  {
   "cell_type": "markdown",
   "metadata": {},
   "source": [
    "From above heatmap it is clear that there is correlation between target variable vs below variables.\n",
    "'Hour', 'Broken_Truck', 'Defect_in_the_network_of_trolleybuses', 'Immobilized_bus', 'Point_of_flooding', 'Running_over'\n",
    "\n",
    "However, let us validate with Filter Selection methods."
   ]
  },
  {
   "cell_type": "markdown",
   "metadata": {},
   "source": [
    "# 1.3 Filter Selection"
   ]
  },
  {
   "cell_type": "markdown",
   "metadata": {},
   "source": [
    "As part of filter selection, we do the following steps:\n",
    "1)As our target variable, slowness in the traffic percent is continuous we will try to apply the binning mechanism to find factors causing slowness in the traffic\n",
    "2)Apply Chi square, F-Classification, RFE technique to find those factors"
   ]
  },
  {
   "cell_type": "code",
   "execution_count": 26,
   "metadata": {},
   "outputs": [],
   "source": [
    "import seaborn as sns\n",
    "sns.set_style('whitegrid')"
   ]
  },
  {
   "cell_type": "code",
   "execution_count": 27,
   "metadata": {},
   "outputs": [
    {
     "name": "stdout",
     "output_type": "stream",
     "text": [
      "max 22.1\n",
      "min 3.8\n"
     ]
    }
   ],
   "source": [
    "print(\"max\", max(data_working_out[\"Slowness_in_traffic_percent\"]))\n",
    "print(\"min\", min(data_working_out[\"Slowness_in_traffic_percent\"]))"
   ]
  },
  {
   "cell_type": "code",
   "execution_count": 28,
   "metadata": {},
   "outputs": [],
   "source": [
    "data_binning = data_working_out.copy()"
   ]
  },
  {
   "cell_type": "code",
   "execution_count": 29,
   "metadata": {},
   "outputs": [
    {
     "data": {
      "text/plain": [
       "Text(0, 0.5, 'Frequency')"
      ]
     },
     "execution_count": 29,
     "metadata": {},
     "output_type": "execute_result"
    },
    {
     "data": {
      "image/png": "[encoded data removed]",
      "text/plain": [
       "<Figure size 432x288 with 1 Axes>"
      ]
     },
     "metadata": {},
     "output_type": "display_data"
    }
   ],
   "source": [
    "fig, ax = plt.subplots()\n",
    "data_binning[\"Slowness_in_traffic_percent\"].hist(color='#A9C5D3', edgecolor='black',  \n",
    "                          grid=False, bins=4)\n",
    "ax.set_title('Traffic Prediction', fontsize=12)\n",
    "ax.set_xlabel('Slowness in traffic percent', fontsize=12)\n",
    "ax.set_ylabel('Frequency', fontsize=12)"
   ]
  },
  {
   "cell_type": "code",
   "execution_count": 30,
   "metadata": {},
   "outputs": [
    {
     "data": {
      "text/html": [
       "<div>\n",
       "<style scoped>\n",
       "    .dataframe tbody tr th:only-of-type {\n",
       "        vertical-align: middle;\n",
       "    }\n",
       "\n",
       "    .dataframe tbody tr th {\n",
       "        vertical-align: top;\n",
       "    }\n",
       "\n",
       "    .dataframe thead th {\n",
       "        text-align: right;\n",
       "    }\n",
       "</style>\n",
       "<table border=\"1\" class=\"dataframe\">\n",
       "  <thead>\n",
       "    <tr style=\"text-align: right;\">\n",
       "      <th></th>\n",
       "      <th>Slowness_in_traffic_percent</th>\n",
       "      <th>Slowness_in_traffic_percent_binned</th>\n",
       "    </tr>\n",
       "  </thead>\n",
       "  <tbody>\n",
       "    <tr>\n",
       "      <th>127</th>\n",
       "      <td>10.9</td>\n",
       "      <td>Medium</td>\n",
       "    </tr>\n",
       "    <tr>\n",
       "      <th>128</th>\n",
       "      <td>8.9</td>\n",
       "      <td>Medium</td>\n",
       "    </tr>\n",
       "    <tr>\n",
       "      <th>130</th>\n",
       "      <td>11.3</td>\n",
       "      <td>Medium</td>\n",
       "    </tr>\n",
       "    <tr>\n",
       "      <th>131</th>\n",
       "      <td>11.3</td>\n",
       "      <td>Medium</td>\n",
       "    </tr>\n",
       "    <tr>\n",
       "      <th>133</th>\n",
       "      <td>14.6</td>\n",
       "      <td>High</td>\n",
       "    </tr>\n",
       "    <tr>\n",
       "      <th>134</th>\n",
       "      <td>17.4</td>\n",
       "      <td>High</td>\n",
       "    </tr>\n",
       "    <tr>\n",
       "      <th>135</th>\n",
       "      <td>17.8</td>\n",
       "      <td>VeryHigh</td>\n",
       "    </tr>\n",
       "    <tr>\n",
       "      <th>136</th>\n",
       "      <td>18.1</td>\n",
       "      <td>VeryHigh</td>\n",
       "    </tr>\n",
       "    <tr>\n",
       "      <th>137</th>\n",
       "      <td>17.7</td>\n",
       "      <td>VeryHigh</td>\n",
       "    </tr>\n",
       "    <tr>\n",
       "      <th>139</th>\n",
       "      <td>12.1</td>\n",
       "      <td>Medium</td>\n",
       "    </tr>\n",
       "  </tbody>\n",
       "</table>\n",
       "</div>"
      ],
      "text/plain": [
       "     Slowness_in_traffic_percent Slowness_in_traffic_percent_binned\n",
       "127                         10.9                             Medium\n",
       "128                          8.9                             Medium\n",
       "130                         11.3                             Medium\n",
       "131                         11.3                             Medium\n",
       "133                         14.6                               High\n",
       "134                         17.4                               High\n",
       "135                         17.8                           VeryHigh\n",
       "136                         18.1                           VeryHigh\n",
       "137                         17.7                           VeryHigh\n",
       "139                         12.1                             Medium"
      ]
     },
     "execution_count": 30,
     "metadata": {},
     "output_type": "execute_result"
    }
   ],
   "source": [
    "group_names = ['Low', 'Medium', 'High', 'VeryHigh']\n",
    "data_binning['Slowness_in_traffic_percent_binned'] = pd.cut(data_binning[\"Slowness_in_traffic_percent\"], 4, labels=group_names)\n",
    "data_binning[['Slowness_in_traffic_percent','Slowness_in_traffic_percent_binned']].tail(10)"
   ]
  },
  {
   "cell_type": "code",
   "execution_count": 31,
   "metadata": {},
   "outputs": [],
   "source": [
    "data_binning = data_binning.drop(['Slowness_in_traffic_percent'], axis=1) "
   ]
  },
  {
   "cell_type": "code",
   "execution_count": 32,
   "metadata": {},
   "outputs": [],
   "source": [
    "#Function to find the factors using chi-square, F-Classification, Mutual Info classification\n",
    "def show_top_univariate_filters(data, score_func, top_k):\n",
    "    X = data.iloc[:,0:17]  #independent columns\n",
    "    y = data.iloc[:,-1]    #target column\n",
    "    \n",
    "    actualX = np.array(X)\n",
    "    actualy = np.array(y)\n",
    "    \n",
    "    if score_func == \"chi2\":\n",
    "        func = chi2\n",
    "    elif score_func == \"f_classif\":\n",
    "        func = f_classif\n",
    "    elif score_func == \"mutual_info_classif\":\n",
    "        func = mutual_info_classif\n",
    "    \n",
    "    #apply SelectKBest class to extract top k best features\n",
    "    bestfeatures = SelectKBest(score_func=func, k=top_k)\n",
    "    fit = bestfeatures.fit(actualX,actualy)\n",
    "\n",
    "    dfscores = pd.DataFrame(fit.scores_)\n",
    "    dfcolumns = pd.DataFrame(X.columns)\n",
    "\n",
    "    #concat two dataframes for better visualization \n",
    "    featureScores = pd.concat([dfcolumns,dfscores],axis=1)\n",
    "    featureScores.columns = ['Specs','Score']  #naming the dataframe columns\n",
    "    print(featureScores.nlargest(top_k,'Score'))  #print 10 best features"
   ]
  },
  {
   "cell_type": "code",
   "execution_count": 33,
   "metadata": {},
   "outputs": [
    {
     "name": "stdout",
     "output_type": "stream",
     "text": [
      "                                    Specs      Score\n",
      "11                      Point_of_flooding  85.500000\n",
      "0                                    Hour  42.938611\n",
      "13  Defect_in_the_network_of_trolleybuses  10.006342\n",
      "2                            Broken_Truck   7.332065\n",
      "1                         Immobilized_bus   6.526905\n"
     ]
    }
   ],
   "source": [
    "show_top_univariate_filters(data_binning, 'chi2', 5)"
   ]
  },
  {
   "cell_type": "code",
   "execution_count": 34,
   "metadata": {},
   "outputs": [
    {
     "name": "stdout",
     "output_type": "stream",
     "text": [
      "                                    Specs      Score\n",
      "0                                    Hour  22.415594\n",
      "11                      Point_of_flooding   5.751249\n",
      "13  Defect_in_the_network_of_trolleybuses   3.509401\n",
      "1                         Immobilized_bus   2.272289\n",
      "5                            Running_over   1.913027\n"
     ]
    }
   ],
   "source": [
    "show_top_univariate_filters(data_binning, 'f_classif', 5)"
   ]
  },
  {
   "cell_type": "markdown",
   "metadata": {},
   "source": [
    "# Feature Selection using RFE"
   ]
  },
  {
   "cell_type": "code",
   "execution_count": 35,
   "metadata": {},
   "outputs": [],
   "source": [
    "from sklearn import datasets\n",
    "from sklearn.feature_selection import RFE\n",
    "from sklearn.linear_model import LogisticRegression"
   ]
  },
  {
   "cell_type": "code",
   "execution_count": 36,
   "metadata": {},
   "outputs": [],
   "source": [
    "model = LogisticRegression()"
   ]
  },
  {
   "cell_type": "code",
   "execution_count": 37,
   "metadata": {},
   "outputs": [
    {
     "name": "stdout",
     "output_type": "stream",
     "text": [
      "Num Features: 5\n",
      "Selected Features: [False  True  True False False  True False False False False False  True\n",
      " False  True False False False]\n",
      "[(1, 'Broken_Truck'), (1, 'Defect_in_the_network_of_trolleybuses'), (1, 'Immobilized_bus'), (1, 'Point_of_flooding'), (1, 'Running_over'), (2, 'Semaphore_off'), (3, 'Accident_victim'), (4, 'Lack_of_electricity'), (5, 'Hour'), (6, 'Intermittent_Semaphore'), (7, 'Tree_on_the_road'), (8, 'Manifestations'), (9, 'Fire'), (10, 'Occurrence_involving_freight'), (11, 'Fire_vehicles'), (12, 'Vehicle_excess'), (13, 'Incident_involving_dangerous_freight')]\n"
     ]
    }
   ],
   "source": [
    "X = data_binning.iloc[:,0:17]  #independent columns\n",
    "y = data_binning.iloc[:,-1]    #target column\n",
    "rfe = RFE(model, 5)\n",
    "fit = rfe.fit(X, y)\n",
    "print(\"Num Features: %s\" % (fit.n_features_))\n",
    "print(\"Selected Features: %s\" % (fit.support_))\n",
    "print(sorted(zip(map(lambda x: round(x, 4), fit.ranking_), X.columns)))"
   ]
  },
  {
   "cell_type": "markdown",
   "metadata": {},
   "source": [
    "According to the RFE mechanism, below are the best features to be considered:\n",
    "'Broken_Truck', 'Defect_in_the_network_of_trolleybuses', 'Immobilized_bus', 'Point_of_flooding', 'Running_over' "
   ]
  },
  {
   "cell_type": "markdown",
   "metadata": {},
   "source": [
    "# Model Building"
   ]
  },
  {
   "cell_type": "markdown",
   "metadata": {},
   "source": [
    "# Using Linear/Polynomial Regression considering best factors"
   ]
  },
  {
   "cell_type": "code",
   "execution_count": 38,
   "metadata": {},
   "outputs": [],
   "source": [
    "from sklearn.linear_model import LinearRegression\n",
    "from sklearn.metrics import mean_squared_error"
   ]
  },
  {
   "cell_type": "markdown",
   "metadata": {},
   "source": [
    " As per RFE, Chi Square, F-Classify let us consider below columns:\n",
    " 1)'Hour'\n",
    " 2)'Broken_Truck'\n",
    " 3)'Defect_in_the_network_of_trolleybuses'\n",
    " 4)'Immobilized_bus'\n",
    " 5)'Point_of_flooding'\n",
    " 6) 'Running_over' "
   ]
  },
  {
   "cell_type": "code",
   "execution_count": 39,
   "metadata": {},
   "outputs": [],
   "source": [
    "columns_selected = ['Hour', 'Broken_Truck', 'Defect_in_the_network_of_trolleybuses', 'Immobilized_bus', 'Point_of_flooding', 'Running_over']"
   ]
  },
  {
   "cell_type": "code",
   "execution_count": 40,
   "metadata": {},
   "outputs": [
    {
     "data": {
      "text/html": [
       "<div>\n",
       "<style scoped>\n",
       "    .dataframe tbody tr th:only-of-type {\n",
       "        vertical-align: middle;\n",
       "    }\n",
       "\n",
       "    .dataframe tbody tr th {\n",
       "        vertical-align: top;\n",
       "    }\n",
       "\n",
       "    .dataframe thead th {\n",
       "        text-align: right;\n",
       "    }\n",
       "</style>\n",
       "<table border=\"1\" class=\"dataframe\">\n",
       "  <thead>\n",
       "    <tr style=\"text-align: right;\">\n",
       "      <th></th>\n",
       "      <th>Hour</th>\n",
       "      <th>Immobilized_bus</th>\n",
       "      <th>Broken_Truck</th>\n",
       "      <th>Vehicle_excess</th>\n",
       "      <th>Accident_victim</th>\n",
       "      <th>Running_over</th>\n",
       "      <th>Fire_vehicles</th>\n",
       "      <th>Occurrence_involving_freight</th>\n",
       "      <th>Incident_involving_dangerous_freight</th>\n",
       "      <th>Lack_of_electricity</th>\n",
       "      <th>Fire</th>\n",
       "      <th>Point_of_flooding</th>\n",
       "      <th>Manifestations</th>\n",
       "      <th>Defect_in_the_network_of_trolleybuses</th>\n",
       "      <th>Tree_on_the_road</th>\n",
       "      <th>Semaphore_off</th>\n",
       "      <th>Intermittent_Semaphore</th>\n",
       "      <th>Slowness_in_traffic_percent</th>\n",
       "    </tr>\n",
       "  </thead>\n",
       "  <tbody>\n",
       "    <tr>\n",
       "      <th>count</th>\n",
       "      <td>105.000000</td>\n",
       "      <td>105.000000</td>\n",
       "      <td>105.000000</td>\n",
       "      <td>105.0</td>\n",
       "      <td>105.000000</td>\n",
       "      <td>105.000000</td>\n",
       "      <td>105.0</td>\n",
       "      <td>105.0</td>\n",
       "      <td>105.0</td>\n",
       "      <td>105.000000</td>\n",
       "      <td>105.0</td>\n",
       "      <td>105.000000</td>\n",
       "      <td>105.0</td>\n",
       "      <td>105.000000</td>\n",
       "      <td>105.0</td>\n",
       "      <td>105.000000</td>\n",
       "      <td>105.0</td>\n",
       "      <td>105.000000</td>\n",
       "    </tr>\n",
       "    <tr>\n",
       "      <th>mean</th>\n",
       "      <td>13.561905</td>\n",
       "      <td>0.247619</td>\n",
       "      <td>0.857143</td>\n",
       "      <td>0.0</td>\n",
       "      <td>0.419048</td>\n",
       "      <td>0.095238</td>\n",
       "      <td>0.0</td>\n",
       "      <td>0.0</td>\n",
       "      <td>0.0</td>\n",
       "      <td>0.057143</td>\n",
       "      <td>0.0</td>\n",
       "      <td>0.085714</td>\n",
       "      <td>0.0</td>\n",
       "      <td>0.133333</td>\n",
       "      <td>0.0</td>\n",
       "      <td>0.085714</td>\n",
       "      <td>0.0</td>\n",
       "      <td>9.979048</td>\n",
       "    </tr>\n",
       "    <tr>\n",
       "      <th>std</th>\n",
       "      <td>3.742875</td>\n",
       "      <td>0.495770</td>\n",
       "      <td>1.121714</td>\n",
       "      <td>0.0</td>\n",
       "      <td>0.632166</td>\n",
       "      <td>0.294951</td>\n",
       "      <td>0.0</td>\n",
       "      <td>0.0</td>\n",
       "      <td>0.0</td>\n",
       "      <td>0.233229</td>\n",
       "      <td>0.0</td>\n",
       "      <td>0.694958</td>\n",
       "      <td>0.0</td>\n",
       "      <td>0.368643</td>\n",
       "      <td>0.0</td>\n",
       "      <td>0.281284</td>\n",
       "      <td>0.0</td>\n",
       "      <td>3.864177</td>\n",
       "    </tr>\n",
       "    <tr>\n",
       "      <th>min</th>\n",
       "      <td>7.300000</td>\n",
       "      <td>0.000000</td>\n",
       "      <td>0.000000</td>\n",
       "      <td>0.0</td>\n",
       "      <td>0.000000</td>\n",
       "      <td>0.000000</td>\n",
       "      <td>0.0</td>\n",
       "      <td>0.0</td>\n",
       "      <td>0.0</td>\n",
       "      <td>0.000000</td>\n",
       "      <td>0.0</td>\n",
       "      <td>0.000000</td>\n",
       "      <td>0.0</td>\n",
       "      <td>0.000000</td>\n",
       "      <td>0.0</td>\n",
       "      <td>0.000000</td>\n",
       "      <td>0.0</td>\n",
       "      <td>3.800000</td>\n",
       "    </tr>\n",
       "    <tr>\n",
       "      <th>25%</th>\n",
       "      <td>10.300000</td>\n",
       "      <td>0.000000</td>\n",
       "      <td>0.000000</td>\n",
       "      <td>0.0</td>\n",
       "      <td>0.000000</td>\n",
       "      <td>0.000000</td>\n",
       "      <td>0.0</td>\n",
       "      <td>0.0</td>\n",
       "      <td>0.0</td>\n",
       "      <td>0.000000</td>\n",
       "      <td>0.0</td>\n",
       "      <td>0.000000</td>\n",
       "      <td>0.0</td>\n",
       "      <td>0.000000</td>\n",
       "      <td>0.0</td>\n",
       "      <td>0.000000</td>\n",
       "      <td>0.0</td>\n",
       "      <td>7.400000</td>\n",
       "    </tr>\n",
       "    <tr>\n",
       "      <th>50%</th>\n",
       "      <td>14.000000</td>\n",
       "      <td>0.000000</td>\n",
       "      <td>1.000000</td>\n",
       "      <td>0.0</td>\n",
       "      <td>0.000000</td>\n",
       "      <td>0.000000</td>\n",
       "      <td>0.0</td>\n",
       "      <td>0.0</td>\n",
       "      <td>0.0</td>\n",
       "      <td>0.000000</td>\n",
       "      <td>0.0</td>\n",
       "      <td>0.000000</td>\n",
       "      <td>0.0</td>\n",
       "      <td>0.000000</td>\n",
       "      <td>0.0</td>\n",
       "      <td>0.000000</td>\n",
       "      <td>0.0</td>\n",
       "      <td>9.200000</td>\n",
       "    </tr>\n",
       "    <tr>\n",
       "      <th>75%</th>\n",
       "      <td>17.000000</td>\n",
       "      <td>0.000000</td>\n",
       "      <td>1.000000</td>\n",
       "      <td>0.0</td>\n",
       "      <td>1.000000</td>\n",
       "      <td>0.000000</td>\n",
       "      <td>0.0</td>\n",
       "      <td>0.0</td>\n",
       "      <td>0.0</td>\n",
       "      <td>0.000000</td>\n",
       "      <td>0.0</td>\n",
       "      <td>0.000000</td>\n",
       "      <td>0.0</td>\n",
       "      <td>0.000000</td>\n",
       "      <td>0.0</td>\n",
       "      <td>0.000000</td>\n",
       "      <td>0.0</td>\n",
       "      <td>11.400000</td>\n",
       "    </tr>\n",
       "    <tr>\n",
       "      <th>max</th>\n",
       "      <td>20.000000</td>\n",
       "      <td>2.000000</td>\n",
       "      <td>5.000000</td>\n",
       "      <td>0.0</td>\n",
       "      <td>2.000000</td>\n",
       "      <td>1.000000</td>\n",
       "      <td>0.0</td>\n",
       "      <td>0.0</td>\n",
       "      <td>0.0</td>\n",
       "      <td>1.000000</td>\n",
       "      <td>0.0</td>\n",
       "      <td>7.000000</td>\n",
       "      <td>0.0</td>\n",
       "      <td>2.000000</td>\n",
       "      <td>0.0</td>\n",
       "      <td>1.000000</td>\n",
       "      <td>0.0</td>\n",
       "      <td>22.100000</td>\n",
       "    </tr>\n",
       "  </tbody>\n",
       "</table>\n",
       "</div>"
      ],
      "text/plain": [
       "             Hour  Immobilized_bus  Broken_Truck  Vehicle_excess  \\\n",
       "count  105.000000       105.000000    105.000000           105.0   \n",
       "mean    13.561905         0.247619      0.857143             0.0   \n",
       "std      3.742875         0.495770      1.121714             0.0   \n",
       "min      7.300000         0.000000      0.000000             0.0   \n",
       "25%     10.300000         0.000000      0.000000             0.0   \n",
       "50%     14.000000         0.000000      1.000000             0.0   \n",
       "75%     17.000000         0.000000      1.000000             0.0   \n",
       "max     20.000000         2.000000      5.000000             0.0   \n",
       "\n",
       "       Accident_victim  Running_over  Fire_vehicles  \\\n",
       "count       105.000000    105.000000          105.0   \n",
       "mean          0.419048      0.095238            0.0   \n",
       "std           0.632166      0.294951            0.0   \n",
       "min           0.000000      0.000000            0.0   \n",
       "25%           0.000000      0.000000            0.0   \n",
       "50%           0.000000      0.000000            0.0   \n",
       "75%           1.000000      0.000000            0.0   \n",
       "max           2.000000      1.000000            0.0   \n",
       "\n",
       "       Occurrence_involving_freight  Incident_involving_dangerous_freight  \\\n",
       "count                         105.0                                 105.0   \n",
       "mean                            0.0                                   0.0   \n",
       "std                             0.0                                   0.0   \n",
       "min                             0.0                                   0.0   \n",
       "25%                             0.0                                   0.0   \n",
       "50%                             0.0                                   0.0   \n",
       "75%                             0.0                                   0.0   \n",
       "max                             0.0                                   0.0   \n",
       "\n",
       "       Lack_of_electricity   Fire  Point_of_flooding  Manifestations  \\\n",
       "count           105.000000  105.0         105.000000           105.0   \n",
       "mean              0.057143    0.0           0.085714             0.0   \n",
       "std               0.233229    0.0           0.694958             0.0   \n",
       "min               0.000000    0.0           0.000000             0.0   \n",
       "25%               0.000000    0.0           0.000000             0.0   \n",
       "50%               0.000000    0.0           0.000000             0.0   \n",
       "75%               0.000000    0.0           0.000000             0.0   \n",
       "max               1.000000    0.0           7.000000             0.0   \n",
       "\n",
       "       Defect_in_the_network_of_trolleybuses  Tree_on_the_road  Semaphore_off  \\\n",
       "count                             105.000000             105.0     105.000000   \n",
       "mean                                0.133333               0.0       0.085714   \n",
       "std                                 0.368643               0.0       0.281284   \n",
       "min                                 0.000000               0.0       0.000000   \n",
       "25%                                 0.000000               0.0       0.000000   \n",
       "50%                                 0.000000               0.0       0.000000   \n",
       "75%                                 0.000000               0.0       0.000000   \n",
       "max                                 2.000000               0.0       1.000000   \n",
       "\n",
       "       Intermittent_Semaphore  Slowness_in_traffic_percent  \n",
       "count                   105.0                   105.000000  \n",
       "mean                      0.0                     9.979048  \n",
       "std                       0.0                     3.864177  \n",
       "min                       0.0                     3.800000  \n",
       "25%                       0.0                     7.400000  \n",
       "50%                       0.0                     9.200000  \n",
       "75%                       0.0                    11.400000  \n",
       "max                       0.0                    22.100000  "
      ]
     },
     "execution_count": 40,
     "metadata": {},
     "output_type": "execute_result"
    }
   ],
   "source": [
    "data_working_out.describe()"
   ]
  },
  {
   "cell_type": "code",
   "execution_count": 41,
   "metadata": {},
   "outputs": [],
   "source": [
    "data_for_model = data_working_out[['Hour', 'Broken_Truck', 'Defect_in_the_network_of_trolleybuses', 'Immobilized_bus', 'Point_of_flooding', 'Running_over']]"
   ]
  },
  {
   "cell_type": "code",
   "execution_count": 42,
   "metadata": {},
   "outputs": [
    {
     "data": {
      "text/html": [
       "<div>\n",
       "<style scoped>\n",
       "    .dataframe tbody tr th:only-of-type {\n",
       "        vertical-align: middle;\n",
       "    }\n",
       "\n",
       "    .dataframe tbody tr th {\n",
       "        vertical-align: top;\n",
       "    }\n",
       "\n",
       "    .dataframe thead th {\n",
       "        text-align: right;\n",
       "    }\n",
       "</style>\n",
       "<table border=\"1\" class=\"dataframe\">\n",
       "  <thead>\n",
       "    <tr style=\"text-align: right;\">\n",
       "      <th></th>\n",
       "      <th>Hour</th>\n",
       "      <th>Broken_Truck</th>\n",
       "      <th>Defect_in_the_network_of_trolleybuses</th>\n",
       "      <th>Immobilized_bus</th>\n",
       "      <th>Point_of_flooding</th>\n",
       "      <th>Running_over</th>\n",
       "    </tr>\n",
       "  </thead>\n",
       "  <tbody>\n",
       "    <tr>\n",
       "      <th>1</th>\n",
       "      <td>7.3</td>\n",
       "      <td>0.0</td>\n",
       "      <td>0.0</td>\n",
       "      <td>0.0</td>\n",
       "      <td>0.0</td>\n",
       "      <td>0.0</td>\n",
       "    </tr>\n",
       "    <tr>\n",
       "      <th>2</th>\n",
       "      <td>8.0</td>\n",
       "      <td>0.0</td>\n",
       "      <td>0.0</td>\n",
       "      <td>0.0</td>\n",
       "      <td>0.0</td>\n",
       "      <td>0.0</td>\n",
       "    </tr>\n",
       "    <tr>\n",
       "      <th>3</th>\n",
       "      <td>8.3</td>\n",
       "      <td>0.0</td>\n",
       "      <td>0.0</td>\n",
       "      <td>0.0</td>\n",
       "      <td>0.0</td>\n",
       "      <td>0.0</td>\n",
       "    </tr>\n",
       "    <tr>\n",
       "      <th>4</th>\n",
       "      <td>9.0</td>\n",
       "      <td>0.0</td>\n",
       "      <td>0.0</td>\n",
       "      <td>0.0</td>\n",
       "      <td>0.0</td>\n",
       "      <td>0.0</td>\n",
       "    </tr>\n",
       "    <tr>\n",
       "      <th>5</th>\n",
       "      <td>9.3</td>\n",
       "      <td>0.0</td>\n",
       "      <td>0.0</td>\n",
       "      <td>0.0</td>\n",
       "      <td>0.0</td>\n",
       "      <td>0.0</td>\n",
       "    </tr>\n",
       "    <tr>\n",
       "      <th>6</th>\n",
       "      <td>10.0</td>\n",
       "      <td>0.0</td>\n",
       "      <td>0.0</td>\n",
       "      <td>0.0</td>\n",
       "      <td>0.0</td>\n",
       "      <td>0.0</td>\n",
       "    </tr>\n",
       "    <tr>\n",
       "      <th>7</th>\n",
       "      <td>10.3</td>\n",
       "      <td>0.0</td>\n",
       "      <td>0.0</td>\n",
       "      <td>0.0</td>\n",
       "      <td>0.0</td>\n",
       "      <td>0.0</td>\n",
       "    </tr>\n",
       "    <tr>\n",
       "      <th>8</th>\n",
       "      <td>11.0</td>\n",
       "      <td>0.0</td>\n",
       "      <td>0.0</td>\n",
       "      <td>0.0</td>\n",
       "      <td>0.0</td>\n",
       "      <td>0.0</td>\n",
       "    </tr>\n",
       "    <tr>\n",
       "      <th>9</th>\n",
       "      <td>11.3</td>\n",
       "      <td>0.0</td>\n",
       "      <td>0.0</td>\n",
       "      <td>0.0</td>\n",
       "      <td>0.0</td>\n",
       "      <td>0.0</td>\n",
       "    </tr>\n",
       "    <tr>\n",
       "      <th>10</th>\n",
       "      <td>12.0</td>\n",
       "      <td>0.0</td>\n",
       "      <td>0.0</td>\n",
       "      <td>0.0</td>\n",
       "      <td>0.0</td>\n",
       "      <td>0.0</td>\n",
       "    </tr>\n",
       "  </tbody>\n",
       "</table>\n",
       "</div>"
      ],
      "text/plain": [
       "    Hour  Broken_Truck  Defect_in_the_network_of_trolleybuses  \\\n",
       "1    7.3           0.0                                    0.0   \n",
       "2    8.0           0.0                                    0.0   \n",
       "3    8.3           0.0                                    0.0   \n",
       "4    9.0           0.0                                    0.0   \n",
       "5    9.3           0.0                                    0.0   \n",
       "6   10.0           0.0                                    0.0   \n",
       "7   10.3           0.0                                    0.0   \n",
       "8   11.0           0.0                                    0.0   \n",
       "9   11.3           0.0                                    0.0   \n",
       "10  12.0           0.0                                    0.0   \n",
       "\n",
       "    Immobilized_bus  Point_of_flooding  Running_over  \n",
       "1               0.0                0.0           0.0  \n",
       "2               0.0                0.0           0.0  \n",
       "3               0.0                0.0           0.0  \n",
       "4               0.0                0.0           0.0  \n",
       "5               0.0                0.0           0.0  \n",
       "6               0.0                0.0           0.0  \n",
       "7               0.0                0.0           0.0  \n",
       "8               0.0                0.0           0.0  \n",
       "9               0.0                0.0           0.0  \n",
       "10              0.0                0.0           0.0  "
      ]
     },
     "execution_count": 42,
     "metadata": {},
     "output_type": "execute_result"
    }
   ],
   "source": [
    "data_for_model.head(10)"
   ]
  },
  {
   "cell_type": "code",
   "execution_count": 76,
   "metadata": {},
   "outputs": [],
   "source": [
    "X = data_for_model.iloc[:,:].values # copy all columns excluding last column"
   ]
  },
  {
   "cell_type": "code",
   "execution_count": 77,
   "metadata": {},
   "outputs": [],
   "source": [
    "y = data_working_out[['Slowness_in_traffic_percent']]"
   ]
  },
  {
   "cell_type": "code",
   "execution_count": 78,
   "metadata": {},
   "outputs": [],
   "source": [
    "# Splitting the dataset into the Training set and Test set\n",
    "\n",
    "from sklearn.model_selection import train_test_split \n",
    "X_train, X_test, y_train, y_test = train_test_split(X, y, test_size=0.2, random_state=0)"
   ]
  },
  {
   "cell_type": "code",
   "execution_count": 79,
   "metadata": {},
   "outputs": [
    {
     "name": "stdout",
     "output_type": "stream",
     "text": [
      "(84, 6)\n",
      "(21, 6)\n"
     ]
    }
   ],
   "source": [
    "print(X_train.shape)\n",
    "print(X_test.shape)"
   ]
  },
  {
   "cell_type": "code",
   "execution_count": 80,
   "metadata": {},
   "outputs": [],
   "source": [
    "reg = LinearRegression().fit(X_train,y_train)"
   ]
  },
  {
   "cell_type": "code",
   "execution_count": 81,
   "metadata": {},
   "outputs": [
    {
     "name": "stdout",
     "output_type": "stream",
     "text": [
      "Coefficient is:  [[ 0.61816174 -0.2028787   0.79252742 -0.25461767  1.13337805  0.48598337]]\n",
      "Intercept is:  [1.67265361]\n"
     ]
    }
   ],
   "source": [
    "print(\"Coefficient is: \", reg.coef_)\n",
    "print(\"Intercept is: \", reg.intercept_)"
   ]
  },
  {
   "cell_type": "code",
   "execution_count": 105,
   "metadata": {},
   "outputs": [
    {
     "data": {
      "text/plain": [
       "84"
      ]
     },
     "execution_count": 105,
     "metadata": {},
     "output_type": "execute_result"
    }
   ],
   "source": [
    "y_pred = reg.predict(X_train)\n",
    "len(y_pred)"
   ]
  },
  {
   "cell_type": "code",
   "execution_count": 82,
   "metadata": {},
   "outputs": [
    {
     "name": "stdout",
     "output_type": "stream",
     "text": [
      "RMSE is:  2.4558102364922862\n",
      "RSE is:  6.665846435308752\n",
      "r2 error is:  0.5434837628967644\n"
     ]
    }
   ],
   "source": [
    "rmse = math.sqrt(mean_squared_error(reg.predict(X_test), y_test))\n",
    "rse = (rmse**2)*X_test.shape[0]\n",
    "rse /= X_test.shape[0] - 2\n",
    "print(\"RMSE is: \", rmse)\n",
    "print(\"RSE is: \", rse)\n",
    "print(\"r2 error is: \", reg.score(X_test,y_test))"
   ]
  },
  {
   "cell_type": "markdown",
   "metadata": {},
   "source": [
    "# Lasso Regression"
   ]
  },
  {
   "cell_type": "code",
   "execution_count": 56,
   "metadata": {},
   "outputs": [],
   "source": [
    "from sklearn.linear_model import Lasso\n",
    "from sklearn.linear_model import Ridge"
   ]
  },
  {
   "cell_type": "code",
   "execution_count": 57,
   "metadata": {},
   "outputs": [],
   "source": [
    "X = data_working_out.iloc[:,0:17]\n",
    "y = data_working_out.iloc[:,-1]"
   ]
  },
  {
   "cell_type": "code",
   "execution_count": 61,
   "metadata": {},
   "outputs": [],
   "source": [
    "X_train, X_test, y_train, y_test = train_test_split(X, y, test_size=0.3, random_state=0)"
   ]
  },
  {
   "cell_type": "code",
   "execution_count": 64,
   "metadata": {},
   "outputs": [
    {
     "data": {
      "text/plain": [
       "Lasso(alpha=0.5, copy_X=True, fit_intercept=True, max_iter=1000,\n",
       "      normalize=False, positive=False, precompute=False, random_state=None,\n",
       "      selection='cyclic', tol=0.0001, warm_start=False)"
      ]
     },
     "execution_count": 64,
     "metadata": {},
     "output_type": "execute_result"
    }
   ],
   "source": [
    "reg = Lasso(alpha = 0.5)\n",
    "reg.fit(X_train,y_train)"
   ]
  },
  {
   "cell_type": "code",
   "execution_count": 66,
   "metadata": {},
   "outputs": [
    {
     "name": "stdout",
     "output_type": "stream",
     "text": [
      "RMSE is:  3.008096259835342\n",
      "RSE is:  9.651885982331065\n",
      "r2 error is:  0.518084148043779\n"
     ]
    }
   ],
   "source": [
    "rmse = math.sqrt(mean_squared_error(reg.predict(X_test), y_test))\n",
    "rse = (rmse**2)*X_test.shape[0]\n",
    "rse /= X_test.shape[0] - 2\n",
    "print(\"RMSE is: \", rmse)\n",
    "print(\"RSE is: \", rse)\n",
    "print(\"r2 error is: \", reg.score(X_test,y_test))"
   ]
  },
  {
   "cell_type": "markdown",
   "metadata": {},
   "source": [
    "# Model Evaluation"
   ]
  },
  {
   "cell_type": "markdown",
   "metadata": {},
   "source": [
    "As per the above two results, Linear and Lasso regression, we have got almost same values for RMSE, RSE and R^2 values\n",
    "1. The error component is very less \n",
    "2. R^2 value is nearing to 1 which determines the response variable is linearly related to independent variables. \n",
    "3. The selected feature subset is adequate for forecasting target variable\n",
    "3. Less of RSE and R^2 towards 1 says that the model is a good model and linear regression is apt to this dataset."
   ]
  }
 ],
 "metadata": {
  "kernelspec": {
   "display_name": "Python 3",
   "language": "python",
   "name": "python3"
  },
  "language_info": {
   "codemirror_mode": {
    "name": "ipython",
    "version": 3
   },
   "file_extension": ".py",
   "mimetype": "text/x-python",
   "name": "python",
   "nbconvert_exporter": "python",
   "pygments_lexer": "ipython3",
   "version": "3.7.3"
  }
 },
 "nbformat": 4,
 "nbformat_minor": 2
}
